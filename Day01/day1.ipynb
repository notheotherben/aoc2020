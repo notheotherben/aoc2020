{
 "metadata": {
  "language_info": {
   "codemirror_mode": {
    "name": "ipython",
    "version": 3
   },
   "file_extension": ".py",
   "mimetype": "text/x-python",
   "name": "python",
   "nbconvert_exporter": "python",
   "pygments_lexer": "ipython3",
   "version": "3.8.3-final"
  },
  "orig_nbformat": 2,
  "kernelspec": {
   "name": "python3",
   "display_name": "Python 3.8.3 64-bit",
   "metadata": {
    "interpreter": {
     "hash": "8eaaf4aeae68107eef80d92da26d6c25334845f2231709207bcb2e9c0e1d5c54"
    }
   }
  }
 },
 "nbformat": 4,
 "nbformat_minor": 2,
 "cells": [
  {
   "cell_type": "code",
   "execution_count": 2,
   "metadata": {},
   "outputs": [],
   "source": [
    "from typing import List, Union\n",
    "\n",
    "def get_numbers(file: str) -> List[int]:\n",
    "    with open(file, 'r') as f:\n",
    "        return list(map(int, f.readlines()))\n",
    "\n",
    "example = [\n",
    "    1721,\n",
    "    979,\n",
    "    366,\n",
    "    299,\n",
    "    675,\n",
    "    1456\n",
    "]\n",
    "\n",
    "data = get_numbers(\"day01.txt\")"
   ]
  },
  {
   "cell_type": "code",
   "execution_count": 3,
   "metadata": {},
   "outputs": [],
   "source": [
    "def get_answer_part1(numbers: List[int], target: int) -> Union[int, None]:\n",
    "    numbers.sort()\n",
    "\n",
    "    i = 0\n",
    "    j = len(numbers) - 1\n",
    "\n",
    "    while True:\n",
    "        if i >= j:\n",
    "            return None\n",
    "\n",
    "        candidate = numbers[i] + numbers[j]\n",
    "        if candidate < target:\n",
    "            i += 1\n",
    "        elif candidate > target:\n",
    "            j -= 1\n",
    "        else:\n",
    "            return numbers[i] * numbers[j]\n",
    "            \n",
    "assert get_answer_part1(example, 2020) == 514579"
   ]
  },
  {
   "cell_type": "code",
   "execution_count": 4,
   "metadata": {},
   "outputs": [
    {
     "output_type": "stream",
     "name": "stdout",
     "text": [
      "319531\n"
     ]
    }
   ],
   "source": [
    "\n",
    "print(get_answer_part1(data, 2020))"
   ]
  },
  {
   "cell_type": "code",
   "execution_count": 40,
   "metadata": {},
   "outputs": [
    {
     "output_type": "stream",
     "name": "stdout",
     "text": [
      "241861950\n"
     ]
    }
   ],
   "source": [
    "def get_answer_part2(numbers: List[int], target: int) -> Union[int, None]:\n",
    "    numbers.sort()\n",
    "\n",
    "    i = 0\n",
    "    k = len(numbers) - 1\n",
    "    low_Nhigh = False\n",
    "\n",
    "    while True:\n",
    "        if i >= k:\n",
    "            return None\n",
    "\n",
    "        for j in range(i + 1, k):\n",
    "            candidate = numbers[i] + numbers[j] + numbers[k]\n",
    "\n",
    "            if candidate == target:\n",
    "                return numbers[i] * numbers[j] * numbers[k]\n",
    "            elif candidate > target:\n",
    "                k -= 1\n",
    "                break\n",
    "        else:\n",
    "            i += 1\n",
    "                \n",
    "\n",
    "print(get_answer_part2(example, 2020))\n",
    "assert get_answer_part2(example, 2020) == 241861950"
   ]
  },
  {
   "cell_type": "code",
   "execution_count": 41,
   "metadata": {
    "tags": []
   },
   "outputs": [
    {
     "output_type": "stream",
     "name": "stdout",
     "text": [
      "244300320\n"
     ]
    }
   ],
   "source": [
    "print(get_answer_part2(data, 2020))"
   ]
  }
 ]
}