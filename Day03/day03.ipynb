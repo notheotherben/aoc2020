{
 "metadata": {
  "language_info": {
   "codemirror_mode": {
    "name": "ipython",
    "version": 3
   },
   "file_extension": ".py",
   "mimetype": "text/x-python",
   "name": "python",
   "nbconvert_exporter": "python",
   "pygments_lexer": "ipython3",
   "version": "3.8.3-final"
  },
  "orig_nbformat": 2,
  "kernelspec": {
   "name": "python3",
   "display_name": "Python 3.8.3 64-bit",
   "metadata": {
    "interpreter": {
     "hash": "8eaaf4aeae68107eef80d92da26d6c25334845f2231709207bcb2e9c0e1d5c54"
    }
   }
  }
 },
 "nbformat": 4,
 "nbformat_minor": 2,
 "cells": [
  {
   "cell_type": "code",
   "execution_count": 2,
   "metadata": {},
   "outputs": [],
   "source": [
    "example = \"\"\"\n",
    "..##.........##.........##.........##.........##.........##.......\n",
    "#...#...#..#...#...#..#...#...#..#...#...#..#...#...#..#...#...#..\n",
    ".#....#..#..#....#..#..#....#..#..#....#..#..#....#..#..#....#..#.\n",
    "..#.#...#.#..#.#...#.#..#.#...#.#..#.#...#.#..#.#...#.#..#.#...#.#\n",
    ".#...##..#..#...##..#..#...##..#..#...##..#..#...##..#..#...##..#.\n",
    "..#.##.......#.##.......#.##.......#.##.......#.##.......#.##.....\n",
    ".#.#.#....#.#.#.#....#.#.#.#....#.#.#.#....#.#.#.#....#.#.#.#....#\n",
    ".#........#.#........#.#........#.#........#.#........#.#........#\n",
    "#.##...#...#.##...#...#.##...#...#.##...#...#.##...#...#.##...#...\n",
    "#...##....##...##....##...##....##...##....##...##....##...##....#\n",
    ".#..#...#.#.#..#...#.#.#..#...#.#.#..#...#.#.#..#...#.#.#..#...#.#\n",
    "\"\"\"\n",
    "\n",
    "with open(\"day03.txt\", \"r\") as f:\n",
    "    data = \"\\n\".join(f.readlines())\n"
   ]
  },
  {
   "cell_type": "code",
   "execution_count": 20,
   "metadata": {},
   "outputs": [
    {
     "output_type": "stream",
     "name": "stdout",
     "text": [
      "Example Map: depth=11\n"
     ]
    }
   ],
   "source": [
    "class Map(object):\n",
    "    def __init__(self, map: str):\n",
    "        self.grid = [\n",
    "            [True if char == \"#\" else False for char in line]\n",
    "            for line in map.splitlines()\n",
    "            if line.strip() != \"\"\n",
    "        ]\n",
    "\n",
    "    def depth(self) -> int:\n",
    "        return len(self.grid)\n",
    "\n",
    "    def is_tree(self, x: int, y: int) -> bool:\n",
    "        if y >= len(self.grid):\n",
    "            raise Exception(\"You've run off the bottom of the map!\")\n",
    "        \n",
    "        return self.grid[y][x % len(self.grid[y])]\n",
    "\n",
    "example_map = Map(example)\n",
    "print(f\"Example Map: depth={example_map.depth()}\")\n",
    "assert example_map.depth() == 11\n",
    "assert not example_map.is_tree(0, 0)\n",
    "assert not example_map.is_tree(1, 0)\n",
    "assert example_map.is_tree(2, 0)\n",
    "assert example_map.is_tree(0, 1)\n",
    "\n",
    "true_map = Map(data)"
   ]
  },
  {
   "cell_type": "code",
   "execution_count": 22,
   "metadata": {},
   "outputs": [],
   "source": [
    "from typing import Tuple\n",
    "\n",
    "class Toboggan(object):\n",
    "    def __init__(self, slope: Tuple[int, int]):\n",
    "        self.slope = slope\n",
    "\n",
    "    def count_trees(self, map: Map) -> int:\n",
    "        trees = 0\n",
    "        for step in range(0, int(map.depth() / self.slope[1])):\n",
    "            if map.is_tree(step * self.slope[0], step * self.slope[1]):\n",
    "                trees += 1\n",
    "\n",
    "        return trees\n",
    "\n",
    "example_toboggan = Toboggan(slope=(3, 1))\n",
    "assert example_toboggan.count_trees(example_map) == 7"
   ]
  },
  {
   "cell_type": "code",
   "execution_count": 23,
   "metadata": {},
   "outputs": [
    {
     "output_type": "stream",
     "name": "stdout",
     "text": [
      "First toboggan hits 274 trees\n"
     ]
    }
   ],
   "source": [
    "print(f\"First toboggan hits {example_toboggan.count_trees(true_map)} trees\")"
   ]
  },
  {
   "cell_type": "code",
   "execution_count": 24,
   "metadata": {},
   "outputs": [
    {
     "output_type": "stream",
     "name": "stdout",
     "text": [
      "For example map\nFleet encounters: [2, 7, 3, 4, 2]\nFinal answer: 336\nFor real map\nFleet encounters: [90, 274, 82, 68, 44]\nFinal answer: 6050183040\n"
     ]
    }
   ],
   "source": [
    "import operator\n",
    "from functools import reduce\n",
    "\n",
    "toboggan_fleet = [\n",
    "    Toboggan(slope=(1, 1)),\n",
    "    Toboggan(slope=(3, 1)),\n",
    "    Toboggan(slope=(5, 1)),\n",
    "    Toboggan(slope=(7, 1)),\n",
    "    Toboggan(slope=(1, 2))\n",
    "]\n",
    "\n",
    "example_factors = [\n",
    "    toboggan.count_trees(example_map)\n",
    "    for toboggan in toboggan_fleet\n",
    "]\n",
    "\n",
    "print(\"For example map\")\n",
    "print(f\"Fleet encounters: {example_factors}\")\n",
    "print(f\"Final answer: {reduce(operator.mul, example_factors, 1)}\")\n",
    "\n",
    "true_factors = [\n",
    "    toboggan.count_trees(true_map)\n",
    "    for toboggan in toboggan_fleet\n",
    "]\n",
    "\n",
    "print(\"For real map\")\n",
    "print(f\"Fleet encounters: {true_factors}\")\n",
    "print(f\"Final answer: {reduce(operator.mul, true_factors, 1)}\")"
   ]
  },
  {
   "cell_type": "code",
   "execution_count": null,
   "metadata": {},
   "outputs": [],
   "source": []
  }
 ]
}