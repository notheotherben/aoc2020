{
 "metadata": {
  "language_info": {
   "codemirror_mode": {
    "name": "ipython",
    "version": 3
   },
   "file_extension": ".py",
   "mimetype": "text/x-python",
   "name": "python",
   "nbconvert_exporter": "python",
   "pygments_lexer": "ipython3",
   "version": "3.8.3-final"
  },
  "orig_nbformat": 2,
  "kernelspec": {
   "name": "python3",
   "display_name": "Python 3.8.3 64-bit",
   "metadata": {
    "interpreter": {
     "hash": "8eaaf4aeae68107eef80d92da26d6c25334845f2231709207bcb2e9c0e1d5c54"
    }
   }
  }
 },
 "nbformat": 4,
 "nbformat_minor": 2,
 "cells": [
  {
   "cell_type": "code",
   "execution_count": 3,
   "metadata": {},
   "outputs": [],
   "source": [
    "example1 = list(map(int, \"\"\"\n",
    "16\n",
    "10\n",
    "15\n",
    "5\n",
    "1\n",
    "11\n",
    "7\n",
    "19\n",
    "6\n",
    "12\n",
    "4\n",
    "\"\"\".strip().splitlines()))\n",
    "\n",
    "example2 = list(map(int, \"\"\"\n",
    "28\n",
    "33\n",
    "18\n",
    "42\n",
    "31\n",
    "14\n",
    "46\n",
    "20\n",
    "48\n",
    "47\n",
    "24\n",
    "23\n",
    "49\n",
    "45\n",
    "19\n",
    "38\n",
    "39\n",
    "11\n",
    "1\n",
    "32\n",
    "25\n",
    "35\n",
    "8\n",
    "17\n",
    "7\n",
    "9\n",
    "4\n",
    "2\n",
    "34\n",
    "10\n",
    "3\n",
    "\"\"\".strip().splitlines()))\n",
    "\n",
    "with open(\"day10.txt\", \"r\") as f:\n",
    "    data = list(map(int, f.readlines()))"
   ]
  },
  {
   "cell_type": "code",
   "execution_count": 4,
   "metadata": {},
   "outputs": [
    {
     "output_type": "stream",
     "name": "stdout",
     "text": [
      "Differences for example1: (7, 0, 5)\nDifferences for example2: (22, 0, 10)\nDifferences for real data: (72, 0, 31) (2232)\n"
     ]
    }
   ],
   "source": [
    "from typing import List, Tuple\n",
    "\n",
    "def get_chain_differences(adapters: List[int]) -> Tuple[int, int, int]:\n",
    "    adapters.sort()\n",
    "\n",
    "    jolts = 0\n",
    "    counts = [0, 0, 0]\n",
    "    for adapter in adapters:\n",
    "        if adapter > jolts + 3:\n",
    "            return counts\n",
    "\n",
    "        counts[adapter - jolts - 1] += 1\n",
    "        jolts = adapter\n",
    "\n",
    "    return (counts[0], counts[1], counts[2] + 1)\n",
    "\n",
    "print(f\"Differences for example1: {get_chain_differences(example1)}\")\n",
    "assert get_chain_differences(example1) == (7, 0, 5)\n",
    "\n",
    "\n",
    "print(f\"Differences for example2: {get_chain_differences(example2)}\")\n",
    "assert get_chain_differences(example2) == (22, 0, 10)\n",
    "\n",
    "real_differences = get_chain_differences(data)\n",
    "print(f\"Differences for real data: {real_differences} ({real_differences[0] * real_differences[2]})\")"
   ]
  },
  {
   "source": [
    "## Part 2 Algorithm\n",
    "We can visualize the sequence of adapters (and the differences between them) as a series of connected springs.\n",
    "Segments with a difference of `3` cannot be separated further without breaking the springs, however segments with\n",
    "a difference of `1` can be extended to span `2` or `3` places by removing intermediate segments.\n",
    "\n",
    "\n",
    "For example, if we have the following sequence of differences:\n",
    "\n",
    "```\n",
    "[3, 1, 3, 3, 1, 3]\n",
    "```\n",
    "\n",
    "We know that our valid combinations are as follows:\n",
    "\n",
    "```\n",
    "[3, 1, 3, 3, 1, 3]\n",
    "[3, 1, 3, 3, 2, 3]\n",
    "[3, 1, 3, 3, 3, 3]\n",
    "[3, 2, 3, 3, 1, 3]\n",
    "[3, 2, 3, 3, 2, 3]\n",
    "[3, 2, 3, 3, 3, 3]\n",
    "[3, 3, 3, 3, 1, 3]\n",
    "[3, 3, 3, 3, 2, 3]\n",
    "[3, 3, 3, 3, 3, 3]\n",
    "```\n",
    "\n",
    "So in this case, we have 9 total combinations.\n",
    "\n",
    "We can use a dynamic programming approach here to, starting at one end of the sequence, start varying the number of\n",
    "removed segments and move our way back to the start. Each time we vary the number of removed segments, the total number\n",
    "of combinations increases by a factor of the number of combinations which preceeded it in the sequence.\n",
    "\n",
    "If we start at the end of the sequence and count the number of combinations, working back to the front, we get the\n",
    "following output:\n",
    "\n",
    "```\n",
    "seq:   [3, 1, 3, 3, 1, 3]\n",
    "comb:  [0, 0, 0, 0, 0, 1]\n",
    "       [0, 0, 0, 0, 3, 1]\n",
    "       [0, 0, 0, 3, 3, 1]\n",
    "       [0, 0, 3, 3, 3, 1]\n",
    "       [0, 9, 3, 3, 3, 1]\n",
    "       [9, 9, 3, 3, 3, 1]\n",
    "```\n",
    "\n",
    "This gives us the same `9` combinations that we saw when manually testing this out and allows us to calculate this in\n",
    "`O(N)` time using `O(N)` memory. This is plenty fast enough for our dataset."
   ],
   "cell_type": "markdown",
   "metadata": {}
  },
  {
   "cell_type": "code",
   "execution_count": 19,
   "metadata": {},
   "outputs": [
    {
     "output_type": "stream",
     "name": "stdout",
     "text": [
      "Total arrangements for example1: 8\nTotal arrangements for example2: 19208\n"
     ]
    }
   ],
   "source": [
    "from typing import Dict \n",
    "\n",
    "def get_chain_arrangements(adapters: List[int]) -> int:\n",
    "    adapters = [0, *adapters]\n",
    "\n",
    "    combinations = [0 for i in range(len(adapters))]\n",
    "    combinations[len(adapters)-1] = 1\n",
    "\n",
    "    for i in range(len(adapters) - 2, -1, -1):\n",
    "        for j in range(i + 1, len(adapters)):\n",
    "            if adapters[j] - adapters[i] <= 3:\n",
    "                combinations[i] += combinations[j]\n",
    "\n",
    "    return combinations[0]\n",
    "\n",
    "print(f\"Total arrangements for example1: {get_chain_arrangements(example1)}\")\n",
    "assert get_chain_arrangements(example1) == 8\n",
    "\n",
    "print(f\"Total arrangements for example2: {get_chain_arrangements(example2)}\")\n",
    "assert get_chain_arrangements(example2) == 19208"
   ]
  },
  {
   "cell_type": "code",
   "execution_count": 20,
   "metadata": {},
   "outputs": [
    {
     "output_type": "stream",
     "name": "stdout",
     "text": [
      "Total arrangements for real data: 173625106649344\n"
     ]
    }
   ],
   "source": [
    "print(f\"Total arrangements for real data: {get_chain_arrangements(data)}\")"
   ]
  },
  {
   "cell_type": "code",
   "execution_count": null,
   "metadata": {},
   "outputs": [],
   "source": []
  }
 ]
}