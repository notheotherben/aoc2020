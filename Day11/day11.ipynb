{
 "metadata": {
  "language_info": {
   "codemirror_mode": {
    "name": "ipython",
    "version": 3
   },
   "file_extension": ".py",
   "mimetype": "text/x-python",
   "name": "python",
   "nbconvert_exporter": "python",
   "pygments_lexer": "ipython3",
   "version": "3.8.3-final"
  },
  "orig_nbformat": 2,
  "kernelspec": {
   "name": "python3",
   "display_name": "Python 3.8.3 64-bit",
   "metadata": {
    "interpreter": {
     "hash": "8eaaf4aeae68107eef80d92da26d6c25334845f2231709207bcb2e9c0e1d5c54"
    }
   }
  }
 },
 "nbformat": 4,
 "nbformat_minor": 2,
 "cells": [
  {
   "cell_type": "code",
   "execution_count": 1,
   "metadata": {},
   "outputs": [],
   "source": [
    "example = \"\"\"\n",
    "L.LL.LL.LL\n",
    "LLLLLLL.LL\n",
    "L.L.L..L..\n",
    "LLLL.LL.LL\n",
    "L.LL.LL.LL\n",
    "L.LLLLL.LL\n",
    "..L.L.....\n",
    "LLLLLLLLLL\n",
    "L.LLLLLL.L\n",
    "L.LLLLL.LL\n",
    "\"\"\".strip().splitlines()\n",
    "\n",
    "with open(\"day11.txt\", \"r\") as f:\n",
    "    data = f.readlines()"
   ]
  },
  {
   "cell_type": "code",
   "execution_count": 12,
   "metadata": {},
   "outputs": [],
   "source": [
    "class Square(object):\n",
    "    def __init__(self, x: int, y: int):\n",
    "        self.x = x\n",
    "        self.y = y\n",
    "\n",
    "    def step(self, area: \"Area\", policy: \"Policy\") -> \"Square\":\n",
    "        return self"
   ]
  },
  {
   "cell_type": "code",
   "execution_count": 13,
   "metadata": {},
   "outputs": [],
   "source": [
    "class Floor(Square):\n",
    "    @property\n",
    "    def occupied(self) -> bool:\n",
    "        return False\n",
    "\n",
    "    def __str__(self) -> str:\n",
    "        return \".\""
   ]
  },
  {
   "cell_type": "code",
   "execution_count": 14,
   "metadata": {},
   "outputs": [],
   "source": [
    "class Seat(Square):\n",
    "    def __init__(self, x: int, y: int, occupied: bool = False):\n",
    "        super().__init__(x, y)\n",
    "        self.occupied = occupied\n",
    "\n",
    "    def step(self, area: \"Area\", policy: \"Policy\") -> \"Seat\":\n",
    "        occupied_adjacent = sum(1 for seat in policy.consider_seats(area, self) if seat.occupied)\n",
    "\n",
    "        if not self.occupied and occupied_adjacent == 0:\n",
    "            area.stable = False\n",
    "            return Seat(self.x, self.y, occupied=True)\n",
    "        elif self.occupied and occupied_adjacent > policy.required_space:\n",
    "            area.stable = False\n",
    "            return Seat(self.x, self.y, occupied=False)\n",
    "        \n",
    "        return self\n",
    "\n",
    "    def __str__(self) -> str:\n",
    "        return \"#\" if self.occupied else \"L\""
   ]
  },
  {
   "cell_type": "code",
   "execution_count": 16,
   "metadata": {},
   "outputs": [],
   "source": [
    "class Policy(object):\n",
    "    def __init__(self, consider_seats, required_space: int = 4):\n",
    "        self.consider_seats = consider_seats\n",
    "        self.required_space = required_space\n",
    "\n",
    "part1_policy = Policy(lambda area, seat: area.get_adjacent(seat), required_space=4)\n",
    "part2_policy = Policy(lambda area, seat: area.get_adjacent_visible(seat), required_space=5)"
   ]
  },
  {
   "cell_type": "code",
   "execution_count": 25,
   "metadata": {},
   "outputs": [
    {
     "output_type": "stream",
     "name": "stdout",
     "text": [
      "Occupied Seats (P1): 37\nOccupied Seats (P2): 26\n"
     ]
    }
   ],
   "source": [
    "from typing import List, Iterator, Union\n",
    "\n",
    "\n",
    "class Area(object):\n",
    "    def __init__(self, seed: List[str]):\n",
    "        self.stable = False\n",
    "        self.grid = [\n",
    "            [\n",
    "                Floor(x, y) if seat == '.' else Seat(x, y, occupied=seat == '#')\n",
    "                for x, seat in enumerate(row.strip())\n",
    "            ]\n",
    "            for y, row in enumerate(seed)\n",
    "        ]\n",
    "\n",
    "    def get_adjacent(self, square: Square) -> Iterator[Square]:\n",
    "        d = [-1, 0, 1]\n",
    "\n",
    "        return (s for s in [\n",
    "            self.get(square.x + dx, square.y + dy)\n",
    "            for dx in d\n",
    "            for dy in d\n",
    "        ] if s is not None)\n",
    "\n",
    "    def get_adjacent_visible(self, square: Square, probe_depth: int = 20) -> Iterator[Square]:\n",
    "        d = [-1, 0, 1]\n",
    "        \n",
    "        return  (s for s in [\n",
    "            next((ns for ns in (self.get(square.x + dx * factor, square.y + dy * factor) for factor in range(1, probe_depth)) if ns is None or isinstance(ns, Seat)), None)\n",
    "            for dx in d\n",
    "            for dy in d\n",
    "        ] if s is not None)\n",
    "\n",
    "    def get(self, x: int, y: int) -> Union[Square, None]:\n",
    "        if x < 0 or y < 0:\n",
    "            return None\n",
    "\n",
    "        if y >= len(self.grid) or x >= len(self.grid[y]):\n",
    "            return None\n",
    "\n",
    "        return self.grid[y][x]\n",
    "\n",
    "    def filter(self, predicate) -> Iterator[Square]:\n",
    "        for row in self.grid:\n",
    "            for square in row:\n",
    "                if predicate(square):\n",
    "                    yield square\n",
    "\n",
    "    def step(self, policy: Policy) -> bool:\n",
    "        self.stable = True\n",
    "\n",
    "        self.grid = [\n",
    "            [square.step(self, policy) for square in row]\n",
    "            for row in self.grid\n",
    "        ]\n",
    "\n",
    "        return not self.stable\n",
    "\n",
    "    def __str__(self):\n",
    "        return \"\\n\".join(\n",
    "            \"\".join(str(square) for square in row)\n",
    "            for row in self.grid\n",
    "        )\n",
    "\n",
    "\n",
    "\n",
    "test_area = Area(example)\n",
    "while test_area.step(part1_policy):    \n",
    "    pass\n",
    "\n",
    "print(f\"Occupied Seats (P1): {sum(1 for seat in test_area.filter(lambda s: s.occupied))}\")\n",
    "\n",
    "\n",
    "test_area = Area(example)\n",
    "while test_area.step(part2_policy):\n",
    "    pass\n",
    "\n",
    "print(f\"Occupied Seats (P2): {sum(1 for seat in test_area.filter(lambda s: s.occupied))}\")"
   ]
  },
  {
   "cell_type": "code",
   "execution_count": 26,
   "metadata": {},
   "outputs": [
    {
     "output_type": "stream",
     "name": "stdout",
     "text": [
      "Occupied Seats (P1): 2338\n"
     ]
    }
   ],
   "source": [
    "true_area = Area(data)\n",
    "while true_area.step(part1_policy):\n",
    "    pass\n",
    "\n",
    "print(f\"Occupied Seats (P1): {sum(1 for seat in true_area.filter(lambda s: s.occupied))}\")"
   ]
  },
  {
   "cell_type": "code",
   "execution_count": 27,
   "metadata": {},
   "outputs": [
    {
     "output_type": "stream",
     "name": "stdout",
     "text": [
      "Occupied Seats (P2): 2134\n"
     ]
    }
   ],
   "source": [
    "true_area = Area(data)\n",
    "while true_area.step(part2_policy):\n",
    "    pass\n",
    "\n",
    "print(f\"Occupied Seats (P2): {sum(1 for seat in true_area.filter(lambda s: s.occupied))}\")"
   ]
  }
 ]
}