{
 "metadata": {
  "language_info": {
   "codemirror_mode": {
    "name": "ipython",
    "version": 3
   },
   "file_extension": ".py",
   "mimetype": "text/x-python",
   "name": "python",
   "nbconvert_exporter": "python",
   "pygments_lexer": "ipython3",
   "version": "3.8.3-final"
  },
  "orig_nbformat": 2,
  "kernelspec": {
   "name": "python3",
   "display_name": "Python 3.8.3 64-bit",
   "metadata": {
    "interpreter": {
     "hash": "8eaaf4aeae68107eef80d92da26d6c25334845f2231709207bcb2e9c0e1d5c54"
    }
   }
  }
 },
 "nbformat": 4,
 "nbformat_minor": 2,
 "cells": [
  {
   "cell_type": "code",
   "execution_count": 3,
   "metadata": {},
   "outputs": [],
   "source": [
    "example = \"\"\"\n",
    "light red bags contain 1 bright white bag, 2 muted yellow bags.\n",
    "dark orange bags contain 3 bright white bags, 4 muted yellow bags.\n",
    "bright white bags contain 1 shiny gold bag.\n",
    "muted yellow bags contain 2 shiny gold bags, 9 faded blue bags.\n",
    "shiny gold bags contain 1 dark olive bag, 2 vibrant plum bags.\n",
    "dark olive bags contain 3 faded blue bags, 4 dotted black bags.\n",
    "vibrant plum bags contain 5 faded blue bags, 6 dotted black bags.\n",
    "faded blue bags contain no other bags.\n",
    "dotted black bags contain no other bags.\n",
    "\"\"\".strip().splitlines()\n",
    "\n",
    "with open(\"day07.txt\", \"r\") as f:\n",
    "    data = f.readlines()"
   ]
  },
  {
   "cell_type": "code",
   "execution_count": 4,
   "metadata": {},
   "outputs": [],
   "source": [
    "from typing import Dict\n",
    "from re import match, findall\n",
    "\n",
    "class Bag(object):\n",
    "    def __init__(self, name: str, contents: Dict[str, int]):\n",
    "        self.name = name\n",
    "        self.contents = contents\n",
    "\n",
    "    @staticmethod\n",
    "    def from_spec(spec: str) -> \"Bag\":\n",
    "        spec_match = match(r\"^([\\w\\s]+) bags contain (.*).$\", spec)\n",
    "        name = spec_match[1]\n",
    "        contents = {\n",
    "            item[1]: int(item[0])\n",
    "            for item in findall(r\"(\\d+) ([\\w\\s]+) bags?\", spec_match[2])\n",
    "        }\n",
    "\n",
    "        return Bag(name, contents)\n",
    "    \n",
    "\n",
    "test_bag = Bag.from_spec(\"light red bags contain 1 bright white bag, 2 muted yellow bags.\")\n",
    "assert test_bag.name == \"light red\"\n",
    "assert test_bag.contents == { \"bright white\": 1, \"muted yellow\": 2 }\n",
    "\n",
    "example_bags = [Bag.from_spec(spec) for spec in example]\n"
   ]
  },
  {
   "source": [
    "## Data Structure\n",
    "We can represent the bags as a graph - in which every node has zero or more parent nodes (these are bags which contain them)\n",
    "and zero or more child nodes (these are bags that they contain). We can then maintain an index into this graph to allow us to\n",
    "rapidly locate and traverse between nodes - enabling `O(N)` answers to both the \"parents\" question (part 1) and the \"children\"\n",
    "question (part 2)."
   ],
   "cell_type": "markdown",
   "metadata": {}
  },
  {
   "cell_type": "code",
   "execution_count": 20,
   "metadata": {},
   "outputs": [],
   "source": [
    "from typing import List, Iterator\n",
    "\n",
    "class BagGraphNode(object):\n",
    "    def __init__(self, bag: Bag):\n",
    "        self.bag = bag\n",
    "        self.parents: List[BagTreeNode] = []\n",
    "        self.children: Dict[str, BagGraphNode] = {}\n",
    "\n",
    "class BagGraph(object):\n",
    "    def __init__(self, bags: List[Bag]):\n",
    "        self.node_lookup: Dict[str, BagGraphNode] = {}\n",
    "        \n",
    "        for bag in bags:\n",
    "            self.node_lookup[bag.name] = BagGraphNode(bag)\n",
    "\n",
    "        for bag in bags:\n",
    "            for child_bag, count in bag.contents.items():\n",
    "                self.node_lookup[bag.name].children[child_bag] = self.node_lookup[child_bag]\n",
    "                self.node_lookup[child_bag].parents.append(self.node_lookup[bag.name])\n",
    "\n",
    "    def get_parents(self, name: str) -> Iterator[str]:\n",
    "        bag_node = self.node_lookup[name]\n",
    "        for parent in bag_node.parents:\n",
    "            yield parent.bag.name\n",
    "\n",
    "            for rec_parent in self.get_parents(parent.bag.name):\n",
    "                yield rec_parent\n",
    "\n",
    "    def get_child_count(self, name: str) -> int:\n",
    "        total_bags = 0\n",
    "\n",
    "        bag_node = self.node_lookup[name]\n",
    "        for child, child_node in bag_node.children.items():\n",
    "            child_count = bag_node.bag.contents[child]\n",
    "\n",
    "            total_bags += child_count * (1 + self.get_child_count(child))\n",
    "\n",
    "        return total_bags\n",
    "\n",
    "\n",
    "example_tree = BagGraph(example_bags)\n",
    "assert set(example_tree.get_parents(\"shiny gold\")) == set((\"bright white\", \"muted yellow\", \"dark orange\", \"light red\"))\n",
    "assert example_tree.get_child_count(\"shiny gold\") == 32"
   ]
  },
  {
   "cell_type": "code",
   "execution_count": 21,
   "metadata": {
    "tags": []
   },
   "outputs": [
    {
     "output_type": "stream",
     "name": "stdout",
     "text": [
      "Total Bags: 594\nTotal Containers: 115\n"
     ]
    }
   ],
   "source": [
    "true_bags = [Bag.from_spec(spec) for spec in data]\n",
    "print(f\"Total Bags: {len(true_bags)}\")\n",
    "true_map = BagGraph(true_bags)\n",
    "print(f\"Total Containers: {len(set(true_map.get_parents('shiny gold')))}\")"
   ]
  },
  {
   "cell_type": "code",
   "execution_count": 22,
   "metadata": {},
   "outputs": [
    {
     "output_type": "stream",
     "name": "stdout",
     "text": [
      "One shiny gold bag must contain 126 other bags\n"
     ]
    }
   ],
   "source": [
    "example2 = \"\"\"\n",
    "shiny gold bags contain 2 dark red bags.\n",
    "dark red bags contain 2 dark orange bags.\n",
    "dark orange bags contain 2 dark yellow bags.\n",
    "dark yellow bags contain 2 dark green bags.\n",
    "dark green bags contain 2 dark blue bags.\n",
    "dark blue bags contain 2 dark violet bags.\n",
    "dark violet bags contain no other bags.\n",
    "\"\"\".strip().splitlines()\n",
    "\n",
    "\n",
    "example_bags2 = [Bag.from_spec(spec) for spec in example2]\n",
    "example_map2 = BagGraph(example_bags2)\n",
    "print(f\"One shiny gold bag must contain {example_map2.get_child_count('shiny gold')} other bags\")\n",
    "assert example_map2.get_child_count(\"shiny gold\") == 126"
   ]
  },
  {
   "cell_type": "code",
   "execution_count": 23,
   "metadata": {},
   "outputs": [
    {
     "output_type": "stream",
     "name": "stdout",
     "text": [
      "One shiny gold bag must contain 1250 other bags\n"
     ]
    }
   ],
   "source": [
    "print(f\"One shiny gold bag must contain {true_map.get_child_count('shiny gold')} other bags\")"
   ]
  },
  {
   "cell_type": "code",
   "execution_count": null,
   "metadata": {},
   "outputs": [],
   "source": []
  }
 ]
}