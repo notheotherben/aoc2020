{
 "metadata": {
  "language_info": {
   "codemirror_mode": {
    "name": "ipython",
    "version": 3
   },
   "file_extension": ".py",
   "mimetype": "text/x-python",
   "name": "python",
   "nbconvert_exporter": "python",
   "pygments_lexer": "ipython3",
   "version": "3.8.3-final"
  },
  "orig_nbformat": 2,
  "kernelspec": {
   "name": "python3",
   "display_name": "Python 3.8.3 64-bit",
   "metadata": {
    "interpreter": {
     "hash": "8eaaf4aeae68107eef80d92da26d6c25334845f2231709207bcb2e9c0e1d5c54"
    }
   }
  }
 },
 "nbformat": 4,
 "nbformat_minor": 2,
 "cells": [
  {
   "cell_type": "code",
   "execution_count": 1,
   "metadata": {},
   "outputs": [],
   "source": [
    "example = \"\"\"\n",
    "light red bags contain 1 bright white bag, 2 muted yellow bags.\n",
    "dark orange bags contain 3 bright white bags, 4 muted yellow bags.\n",
    "bright white bags contain 1 shiny gold bag.\n",
    "muted yellow bags contain 2 shiny gold bags, 9 faded blue bags.\n",
    "shiny gold bags contain 1 dark olive bag, 2 vibrant plum bags.\n",
    "dark olive bags contain 3 faded blue bags, 4 dotted black bags.\n",
    "vibrant plum bags contain 5 faded blue bags, 6 dotted black bags.\n",
    "faded blue bags contain no other bags.\n",
    "dotted black bags contain no other bags.\n",
    "\"\"\".strip().splitlines()\n",
    "\n",
    "with open(\"day07.txt\", \"r\") as f:\n",
    "    data = f.readlines()"
   ]
  },
  {
   "cell_type": "code",
   "execution_count": 2,
   "metadata": {},
   "outputs": [],
   "source": [
    "from typing import Dict\n",
    "from re import match, findall\n",
    "\n",
    "class Bag(object):\n",
    "    def __init__(self, name: str, contents: Dict[str, int]):\n",
    "        self.name = name\n",
    "        self.contents = contents\n",
    "\n",
    "    @staticmethod\n",
    "    def from_spec(spec: str) -> \"Bag\":\n",
    "        spec_match = match(r\"^([\\w\\s]+) bags contain (.*).$\", spec)\n",
    "        name = spec_match[1]\n",
    "        contents = {\n",
    "            item[1]: int(item[0])\n",
    "            for item in findall(r\"(\\d+) ([\\w\\s]+) bags?\", spec_match[2])\n",
    "        }\n",
    "\n",
    "        return Bag(name, contents)\n",
    "    \n",
    "\n",
    "test_bag = Bag.from_spec(\"light red bags contain 1 bright white bag, 2 muted yellow bags.\")\n",
    "assert test_bag.name == \"light red\"\n",
    "assert test_bag.contents == { \"bright white\": 1, \"muted yellow\": 2 }\n",
    "\n",
    "example_bags = [Bag.from_spec(spec) for spec in example]\n"
   ]
  },
  {
   "cell_type": "code",
   "execution_count": 31,
   "metadata": {},
   "outputs": [
    {
     "output_type": "stream",
     "name": "stdout",
     "text": [
      "{'light red', 'muted yellow', 'dark orange', 'bright white'}\n"
     ]
    }
   ],
   "source": [
    "from typing import List\n",
    "from collections import defaultdict\n",
    "\n",
    "class BagMap(object):\n",
    "    def __init__(self, bags: List[Bag]):\n",
    "        self.bags = bags\n",
    "        self.bag_lookup: Dict[str, Dict[str, int]] = defaultdict(lambda: {})\n",
    "\n",
    "        for bag in bags:\n",
    "            for child_name, count in bag.contents.items():\n",
    "                self.bag_lookup[bag.name][child_name] = count\n",
    "\n",
    "                self._update_parents(bag.name, child_name, count)\n",
    "\n",
    "        for bag_type, bag_contents in self.bag_lookup.items():\n",
    "            for child_type, count in bag_contents.items():\n",
    "                self._update_parents(bag_type, child_type, count)\n",
    "\n",
    "    def get_containers(self, name: str) -> List[str]:\n",
    "        for bag_name, contents in self.bag_lookup.items():\n",
    "            if name in contents and contents[name] > 0:\n",
    "                yield bag_name\n",
    "\n",
    "    def get_child_count(self, name: str) -> int:\n",
    "        total_bags = 0\n",
    "        bag = next(bag for bag in self.bags if bag.name == name)\n",
    "        for bag_type, count in bag.contents.items():\n",
    "            extra_bags = count * (1 + self.get_child_count(bag_type))\n",
    "            total_bags += extra_bags\n",
    "\n",
    "        return total_bags\n",
    "\n",
    "    def _update_parents(self, bag_type: str, child_type: str, child_count: int):\n",
    "        for parent_type, parent_contents in self.bag_lookup.items():\n",
    "            if parent_type == bag_type:\n",
    "                continue\n",
    "\n",
    "            if bag_type in parent_contents:\n",
    "                old_value = parent_contents.get(child_type, 0)\n",
    "                new_value = max(parent_contents[bag_type] * child_count, old_value)\n",
    "\n",
    "                if old_value != new_value:\n",
    "                    parent_contents[child_type] = new_value\n",
    "                    self._update_parents(parent_type, child_type, new_value)\n",
    "\n",
    "example_map = BagMap(example_bags)\n",
    "assert set(example_map.get_containers(\"shiny gold\")) == set((\"bright white\", \"muted yellow\", \"dark orange\", \"light red\"))\n",
    "\n",
    "print(set(example_map.get_containers(\"shiny gold\")))"
   ]
  },
  {
   "cell_type": "code",
   "execution_count": 33,
   "metadata": {
    "tags": []
   },
   "outputs": [
    {
     "output_type": "stream",
     "name": "stdout",
     "text": [
      "Total Bags: 594\n",
      "Total Containers: 115\n"
     ]
    }
   ],
   "source": [
    "true_bags = [Bag.from_spec(spec) for spec in data]\n",
    "print(f\"Total Bags: {len(true_bags)}\")\n",
    "true_map = BagMap(true_bags)\n",
    "print(f\"Total Containers: {len(set(true_map.get_containers('shiny gold')))}\")"
   ]
  },
  {
   "cell_type": "code",
   "execution_count": 34,
   "metadata": {},
   "outputs": [
    {
     "output_type": "stream",
     "name": "stdout",
     "text": [
      "One shiny gold bag must contain 32 other bags\nOne shiny gold bag must contain 126 other bags\n"
     ]
    }
   ],
   "source": [
    "print(f\"One shiny gold bag must contain {example_map.get_child_count('shiny gold')} other bags\")\n",
    "assert example_map.get_child_count(\"shiny gold\") == 32\n",
    "\n",
    "example2 = \"\"\"\n",
    "shiny gold bags contain 2 dark red bags.\n",
    "dark red bags contain 2 dark orange bags.\n",
    "dark orange bags contain 2 dark yellow bags.\n",
    "dark yellow bags contain 2 dark green bags.\n",
    "dark green bags contain 2 dark blue bags.\n",
    "dark blue bags contain 2 dark violet bags.\n",
    "dark violet bags contain no other bags.\n",
    "\"\"\".strip().splitlines()\n",
    "\n",
    "\n",
    "example_bags2 = [Bag.from_spec(spec) for spec in example2]\n",
    "example_map2 = BagMap(example_bags2)\n",
    "print(f\"One shiny gold bag must contain {example_map2.get_child_count('shiny gold')} other bags\")\n",
    "assert example_map2.get_child_count(\"shiny gold\") == 126"
   ]
  },
  {
   "cell_type": "code",
   "execution_count": 35,
   "metadata": {},
   "outputs": [
    {
     "output_type": "stream",
     "name": "stdout",
     "text": [
      "One shiny gold bag must contain 1250 other bags\n"
     ]
    }
   ],
   "source": [
    "print(f\"One shiny gold bag must contain {true_map.get_child_count('shiny gold')} other bags\")"
   ]
  },
  {
   "cell_type": "code",
   "execution_count": null,
   "metadata": {},
   "outputs": [],
   "source": []
  }
 ]
}