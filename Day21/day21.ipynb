{
 "metadata": {
  "language_info": {
   "codemirror_mode": {
    "name": "ipython",
    "version": 3
   },
   "file_extension": ".py",
   "mimetype": "text/x-python",
   "name": "python",
   "nbconvert_exporter": "python",
   "pygments_lexer": "ipython3",
   "version": "3.8.3-final"
  },
  "orig_nbformat": 2,
  "kernelspec": {
   "name": "python3",
   "display_name": "Python 3.8.3 64-bit",
   "metadata": {
    "interpreter": {
     "hash": "8eaaf4aeae68107eef80d92da26d6c25334845f2231709207bcb2e9c0e1d5c54"
    }
   }
  }
 },
 "nbformat": 4,
 "nbformat_minor": 2,
 "cells": [
  {
   "cell_type": "code",
   "execution_count": 38,
   "metadata": {},
   "outputs": [],
   "source": [
    "example = \"\"\"\n",
    "mxmxvkd kfcds sqjhc nhms (contains dairy, fish)\n",
    "trh fvjkl sbzzf mxmxvkd (contains dairy)\n",
    "sqjhc fvjkl (contains soy)\n",
    "sqjhc mxmxvkd sbzzf (contains fish)\n",
    "\"\"\"[1:-1].splitlines()\n",
    "\n",
    "with open(\"day21.txt\", \"r\") as f:\n",
    "    data = f.readlines()"
   ]
  },
  {
   "cell_type": "code",
   "execution_count": 39,
   "metadata": {},
   "outputs": [
    {
     "output_type": "stream",
     "name": "stdout",
     "text": [
      "sqjhc fvjkl (contains soy)\n"
     ]
    }
   ],
   "source": [
    "from typing import Set\n",
    "\n",
    "class Food(object):\n",
    "    def __init__(self, ingredients: Set[str], allergens: Set[str]):\n",
    "        self.ingredients = set(ingredient.strip() for ingredient in ingredients)\n",
    "        self.allergens = set(allergens)\n",
    "\n",
    "    def __str__(self) -> str:\n",
    "        return f\"{' '.join(self.ingredients)} (contains {', '.join(self.allergens)})\"\n",
    "\n",
    "    @staticmethod\n",
    "    def from_str(input: str) -> \"Food\":\n",
    "        ingredients, allergens = input.strip()[:-1].split('(contains ')\n",
    "        return Food(set(ingredient.strip() for ingredient in ingredients.split(' ') if ingredient), set(allergen.strip() for allergen in allergens.split(', ') if allergen))\n",
    "\n",
    "print(Food.from_str(\"sqjhc fvjkl (contains soy)\\r\"))\n",
    "assert Food.from_str(\"sqjhc fvjkl (contains soy)\\r\").ingredients == set([\"sqjhc\", \"fvjkl\"])\n",
    "assert Food.from_str(\"sqjhc fvjkl (contains soy)\\r\").allergens == set([\"soy\"])\n",
    "\n",
    "example_foods = list(map(Food.from_str, example))\n",
    "true_foods = list(map(Food.from_str, data))"
   ]
  },
  {
   "cell_type": "code",
   "execution_count": 42,
   "metadata": {},
   "outputs": [
    {
     "output_type": "stream",
     "name": "stdout",
     "text": [
      "Example Safe Ingredient Appearances (Part 1): 5\nExample Dangerous Ingredients (Part 2): mxmxvkd,sqjhc,fvjkl\nTrue Safe Ingredient Appearances (Part 1): 2020\nTrue Dangerous Ingredients (Part 2): bcdgf,xhrdsl,vndrb,dhbxtb,lbnmsr,scxxn,bvcrrfbr,xcgtv\n"
     ]
    }
   ],
   "source": [
    "from typing import Iterable\n",
    "from collections import defaultdict\n",
    "\n",
    "class AllergenMap(object):\n",
    "    def __init__(self, foods: Iterable[Food]):\n",
    "        foods_containing_allergens = defaultdict(lambda: [])\n",
    "        allergen_names = {}\n",
    "        self.known_ingredients = set()\n",
    "\n",
    "        for food in foods:\n",
    "            for allergen in food.allergens:\n",
    "                foods_containing_allergens[allergen].append(food)\n",
    "\n",
    "            self.known_ingredients.update(food.ingredients)\n",
    "\n",
    "        have_unresolved_ingredients = True\n",
    "        while have_unresolved_ingredients:\n",
    "            have_unresolved_ingredients = False\n",
    "            for allergen, foods in foods_containing_allergens.items():\n",
    "                if allergen in allergen_names:\n",
    "                    continue\n",
    "\n",
    "                common_ingredients = foods[0].ingredients - set(allergen_names.values())\n",
    "                for food in foods:\n",
    "                    common_ingredients = common_ingredients.intersection(food.ingredients)\n",
    "\n",
    "                if len(common_ingredients) == 0:\n",
    "                    raise Exception(f\"Could not resolve common ingredient name for {allergen}\")\n",
    "                elif len(common_ingredients) == 1:\n",
    "                    ingredient = next(iter(common_ingredients))\n",
    "                    allergen_names[allergen] = ingredient\n",
    "                else:\n",
    "                    have_unresolved_ingredients = True\n",
    "\n",
    "        self.allergens = allergen_names\n",
    "        self.safe_ingredients = self.known_ingredients - set(self.allergens.values())\n",
    "\n",
    "    def dangerous_ingredients(self) -> Iterable[str]:\n",
    "        return [\n",
    "            self.allergens[key]\n",
    "            for key in sorted(self.allergens.keys())\n",
    "        ]\n",
    "\n",
    "example_map = AllergenMap(example_foods)\n",
    "print(f\"Example Safe Ingredient Appearances (Part 1): {sum(1 for food in example_foods for ingredient in food.ingredients if ingredient in example_map.safe_ingredients)}\")\n",
    "print(f\"Example Dangerous Ingredients (Part 2): {','.join(example_map.dangerous_ingredients())}\")\n",
    "\n",
    "true_map = AllergenMap(true_foods)\n",
    "print(f\"True Safe Ingredient Appearances (Part 1): {sum(1 for food in true_foods for ingredient in food.ingredients if ingredient in true_map.safe_ingredients)}\")\n",
    "print(f\"True Dangerous Ingredients (Part 2): {','.join(true_map.dangerous_ingredients())}\")"
   ]
  },
  {
   "cell_type": "code",
   "execution_count": null,
   "metadata": {},
   "outputs": [],
   "source": []
  }
 ]
}