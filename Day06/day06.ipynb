{
 "metadata": {
  "language_info": {
   "codemirror_mode": {
    "name": "ipython",
    "version": 3
   },
   "file_extension": ".py",
   "mimetype": "text/x-python",
   "name": "python",
   "nbconvert_exporter": "python",
   "pygments_lexer": "ipython3",
   "version": "3.8.3-final"
  },
  "orig_nbformat": 2,
  "kernelspec": {
   "name": "python3",
   "display_name": "Python 3.8.3 64-bit",
   "metadata": {
    "interpreter": {
     "hash": "8eaaf4aeae68107eef80d92da26d6c25334845f2231709207bcb2e9c0e1d5c54"
    }
   }
  }
 },
 "nbformat": 4,
 "nbformat_minor": 2,
 "cells": [
  {
   "cell_type": "code",
   "execution_count": 22,
   "metadata": {},
   "outputs": [],
   "source": [
    "example = \"\"\"\n",
    "abc\n",
    "\n",
    "a\n",
    "b\n",
    "c\n",
    "\n",
    "ab\n",
    "ac\n",
    "\n",
    "a\n",
    "a\n",
    "a\n",
    "a\n",
    "\n",
    "b\n",
    "\"\"\".strip().splitlines()\n",
    "\n",
    "with open(\"day06.txt\", \"r\") as f:\n",
    "    data = f.readlines()"
   ]
  },
  {
   "cell_type": "code",
   "execution_count": 29,
   "metadata": {},
   "outputs": [],
   "source": [
    "from typing import DefaultDict, List\n",
    "from collections import defaultdict\n",
    "\n",
    "class Group(object):\n",
    "    def __init__(self):\n",
    "        self.questions: DefaultDict[str, int] = defaultdict(lambda: 0)\n",
    "        self.count: int = 0\n",
    "\n",
    "    @property\n",
    "    def question_count(self) -> int:\n",
    "        return len(self.questions)\n",
    "\n",
    "    @property\n",
    "    def questions_answered_by_all(self) -> int:\n",
    "        return sum(1 if count == self.count else 0 for question, count in self.questions.items())\n",
    "\n",
    "    def update(self, line: str):\n",
    "        self.count += 1\n",
    "        for question in line.strip():\n",
    "            self.questions[question] += 1\n",
    "\n",
    "    @staticmethod\n",
    "    def groups_from_lines(lines: List[str]) -> List[\"Group\"]:\n",
    "        groups = [Group()]\n",
    "\n",
    "        for line in lines:\n",
    "            if line.strip() == \"\":\n",
    "                groups.append(Group())\n",
    "            else:\n",
    "                groups[-1].update(line)\n",
    "\n",
    "        return groups"
   ]
  },
  {
   "cell_type": "code",
   "execution_count": 30,
   "metadata": {},
   "outputs": [
    {
     "output_type": "stream",
     "name": "stdout",
     "text": [
      "Total Questions Answered: 11\nTotal Questions Answered by All: 6\n"
     ]
    }
   ],
   "source": [
    "example_groups = Group.groups_from_lines(example)\n",
    "\n",
    "print(f\"Total Questions Answered: {sum(group.question_count for group in example_groups)}\")\n",
    "print(f\"Total Questions Answered by All: {sum(group.questions_answered_by_all for group in example_groups)}\")"
   ]
  },
  {
   "cell_type": "code",
   "execution_count": 31,
   "metadata": {},
   "outputs": [
    {
     "output_type": "stream",
     "name": "stdout",
     "text": [
      "Total Questions Answered: 6430\nTotal Questions Answered by All: 3125\n"
     ]
    }
   ],
   "source": [
    "true_groups = Group.groups_from_lines(data)\n",
    "\n",
    "print(f\"Total Questions Answered: {sum(group.question_count for group in true_groups)}\")\n",
    "print(f\"Total Questions Answered by All: {sum(group.questions_answered_by_all for group in true_groups)}\")"
   ]
  },
  {
   "cell_type": "code",
   "execution_count": null,
   "metadata": {},
   "outputs": [],
   "source": []
  }
 ]
}