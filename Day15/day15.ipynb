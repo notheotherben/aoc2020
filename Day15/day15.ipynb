{
 "metadata": {
  "language_info": {
   "codemirror_mode": {
    "name": "ipython",
    "version": 3
   },
   "file_extension": ".py",
   "mimetype": "text/x-python",
   "name": "python",
   "nbconvert_exporter": "python",
   "pygments_lexer": "ipython3",
   "version": "3.8.3-final"
  },
  "orig_nbformat": 2,
  "kernelspec": {
   "name": "python3",
   "display_name": "Python 3.8.3 64-bit",
   "metadata": {
    "interpreter": {
     "hash": "8eaaf4aeae68107eef80d92da26d6c25334845f2231709207bcb2e9c0e1d5c54"
    }
   }
  }
 },
 "nbformat": 4,
 "nbformat_minor": 2,
 "cells": [
  {
   "cell_type": "code",
   "execution_count": 3,
   "metadata": {},
   "outputs": [],
   "source": [
    "example = list(map(int, \"0,3,6\".split(',')))\n",
    "\n",
    "data = list(map(int, \"9,19,1,6,0,5,4\".split(\",\")))"
   ]
  },
  {
   "cell_type": "code",
   "execution_count": 18,
   "metadata": {
    "tags": []
   },
   "outputs": [
    {
     "output_type": "stream",
     "name": "stdout",
     "text": [
      "Example Part 1: 436\n",
      "Example Part 2: 175594\n"
     ]
    }
   ],
   "source": [
    "from typing import Dict, List\n",
    "from collections import defaultdict\n",
    "\n",
    "class TwoBuffer(object):\n",
    "    def __init__(self, value1: int = None, value2: int = None):\n",
    "        self.value1 = value1\n",
    "        self.value2 = value2\n",
    "\n",
    "    def store(self, value: int):\n",
    "        self.value1, self.value2 = self.value2, value\n",
    "\n",
    "    def difference(self) -> int:\n",
    "        if self.value1 is None:\n",
    "            return 0\n",
    "        return self.value2 - self.value1\n",
    "\n",
    "    def __str__(self) -> str:\n",
    "        return f\"{self.value1} → {self.value2}\"\n",
    "\n",
    "class MemoryGame(object):\n",
    "    def __init__(self):\n",
    "        self.turn = 0\n",
    "        self.last_spoken = None\n",
    "        self.history: Dict[int, TwoBuffer] = defaultdict(lambda: TwoBuffer())\n",
    "\n",
    "    def speak(self, number: int):\n",
    "        self.turn += 1\n",
    "        self.history[number].store(self.turn)\n",
    "        self.last_spoken = number\n",
    "\n",
    "    def next_number(self) -> int:\n",
    "        next_number = self.history[self.last_spoken].difference()\n",
    "        return next_number\n",
    "\n",
    "    def play(self, seed: List[int], turns: int = None):\n",
    "        turns = turns or len(seed)\n",
    "\n",
    "        for i in seed:\n",
    "            self.speak(i)\n",
    "\n",
    "        for i in range(len(seed), turns):\n",
    "            self.speak(self.next_number())\n",
    "\n",
    "\n",
    "test_game = MemoryGame()\n",
    "\n",
    "\n",
    "test_game.play(example)\n",
    "assert test_game.last_spoken == 6\n",
    "assert test_game.history[6].value2 == 3\n",
    "assert test_game.next_number() == 0\n",
    "\n",
    "test_game.speak(test_game.next_number())\n",
    "assert test_game.next_number() == 3\n",
    "\n",
    "test_game.speak(test_game.next_number())\n",
    "assert test_game.next_number() == 3\n",
    "\n",
    "test_game.speak(test_game.next_number())\n",
    "assert test_game.next_number() == 1\n",
    "\n",
    "test_game.speak(test_game.next_number())\n",
    "assert test_game.next_number() == 0\n",
    "\n",
    "test_game.speak(test_game.next_number())\n",
    "assert test_game.next_number() == 4\n",
    "\n",
    "test_game.speak(test_game.next_number())\n",
    "assert test_game.next_number() == 0\n",
    "\n",
    "\n",
    "test_game = MemoryGame()\n",
    "test_game.play(example, 2020)\n",
    "print(f\"Example Part 1: {test_game.last_spoken}\")\n",
    "\n",
    "test_game = MemoryGame()\n",
    "test_game.play(example, 30000000)\n",
    "print(f\"Example Part 2: {test_game.last_spoken}\")"
   ]
  },
  {
   "cell_type": "code",
   "execution_count": 19,
   "metadata": {},
   "outputs": [
    {
     "output_type": "stream",
     "name": "stdout",
     "text": [
      "Part 1: 1522\n",
      "Part 2: 18234\n"
     ]
    }
   ],
   "source": [
    "game = MemoryGame()\n",
    "game.play(data, 2020)\n",
    "print(f\"Part 1: {game.last_spoken}\")\n",
    "\n",
    "game = MemoryGame()\n",
    "game.play(data, 30000000)\n",
    "print(f\"Part 2: {game.last_spoken}\")"
   ]
  },
  {
   "cell_type": "code",
   "execution_count": null,
   "metadata": {},
   "outputs": [],
   "source": []
  }
 ]
}