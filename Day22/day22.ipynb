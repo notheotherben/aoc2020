{
 "metadata": {
  "language_info": {
   "codemirror_mode": {
    "name": "ipython",
    "version": 3
   },
   "file_extension": ".py",
   "mimetype": "text/x-python",
   "name": "python",
   "nbconvert_exporter": "python",
   "pygments_lexer": "ipython3",
   "version": "3.8.3-final"
  },
  "orig_nbformat": 2,
  "kernelspec": {
   "name": "python3",
   "display_name": "Python 3.8.3 64-bit",
   "metadata": {
    "interpreter": {
     "hash": "8eaaf4aeae68107eef80d92da26d6c25334845f2231709207bcb2e9c0e1d5c54"
    }
   }
  }
 },
 "nbformat": 4,
 "nbformat_minor": 2,
 "cells": [
  {
   "cell_type": "code",
   "execution_count": 9,
   "metadata": {},
   "outputs": [],
   "source": [
    "example = \"\"\"\n",
    "Player 1:\n",
    "9\n",
    "2\n",
    "6\n",
    "3\n",
    "1\n",
    "\n",
    "Player 2:\n",
    "5\n",
    "8\n",
    "4\n",
    "7\n",
    "10\n",
    "\"\"\"[1:-1].splitlines()\n",
    "\n",
    "with open(\"day22.txt\", \"r\") as f:\n",
    "    data = f.readlines()"
   ]
  },
  {
   "cell_type": "code",
   "execution_count": 12,
   "metadata": {},
   "outputs": [],
   "source": [
    "from typing import List, Tuple\n",
    "\n",
    "def parse_input(lines: List[str]) -> (Tuple[int], Tuple[int]):\n",
    "    player_decks = ([], [])\n",
    "    current_player = 0\n",
    "\n",
    "    for line in lines:\n",
    "        line = line.strip()\n",
    "        if line.startswith(\"Player \"):\n",
    "            current_player = int(line[7:-1]) - 1\n",
    "        elif line.isdigit():\n",
    "            player_decks[current_player].append(int(line))\n",
    "\n",
    "    return tuple(tuple(deck) for deck in player_decks)\n",
    "\n",
    "assert parse_input(example) == (\n",
    "    (9, 2, 6, 3, 1),\n",
    "    (5, 8, 4, 7, 10)\n",
    ")"
   ]
  },
  {
   "cell_type": "code",
   "execution_count": 38,
   "metadata": {
    "tags": []
   },
   "outputs": [
    {
     "output_type": "stream",
     "name": "stdout",
     "text": [
      "Final Winner and Score (part 1): (1, 31957)\n"
     ]
    }
   ],
   "source": [
    "from typing import Iterable, Tuple\n",
    "\n",
    "class Combat(object):\n",
    "    def __init__(self, player1: Iterable[int], player2: Iterable[int]):\n",
    "        self.player1 = list(player1)\n",
    "        self.player2 = list(player2)\n",
    "\n",
    "    def run(self) -> Tuple[int, int]:\n",
    "        winner = None\n",
    "        while winner is None:\n",
    "            winner = self.step()\n",
    "\n",
    "        return (winner, self.score()[winner - 1])\n",
    "\n",
    "    def step(self) -> int:\n",
    "        game_winner = self.get_game_winner()\n",
    "\n",
    "        if game_winner is not None:\n",
    "            return game_winner\n",
    "\n",
    "        player1 = self.player1.pop(0)\n",
    "        player2 = self.player2.pop(0)\n",
    "\n",
    "        round_winner = self.get_round_winner(player1, player2)\n",
    "        if round_winner == 1:\n",
    "            self.player1.extend([player1, player2])\n",
    "        else:\n",
    "            self.player2.extend([player2, player1])\n",
    "\n",
    "        return None\n",
    "\n",
    "    def get_game_winner(self) -> int:\n",
    "        if not self.player1:\n",
    "            return 2\n",
    "\n",
    "        if not self.player2:\n",
    "            return 1\n",
    "\n",
    "        return None\n",
    "\n",
    "    def get_round_winner(self, player1: int, player2: int) -> int:\n",
    "        if player1 > player2:\n",
    "            return 1\n",
    "        else:\n",
    "            return 2\n",
    "\n",
    "    def score(self) -> Tuple[int, int]:\n",
    "        return (\n",
    "            sum(card * (i + 1) for i, card in enumerate(reversed(self.player1))),\n",
    "            sum(card * (i + 1) for i, card in enumerate(reversed(self.player2)))\n",
    "        )\n",
    "\n",
    "example_game = Combat(*parse_input(example))\n",
    "assert example_game.run() == (2, 306)\n",
    "\n",
    "true_game = Combat(*parse_input(data))\n",
    "print(f\"Final Winner and Score (part 1): {true_game.run()}\")"
   ]
  },
  {
   "cell_type": "code",
   "execution_count": 40,
   "metadata": {},
   "outputs": [
    {
     "output_type": "stream",
     "name": "stdout",
     "text": [
      "Example Recursive Result (part 2): (2, 291)\n",
      "Recursive Result (part 2): (1, 33212)\n"
     ]
    }
   ],
   "source": [
    "from typing import Iterable, Set, Tuple\n",
    "\n",
    "class RecursiveCombat(Combat):\n",
    "    def __init__(self, player1: Iterable[int], player2: Iterable[int], prior_states: Set[Tuple[Tuple[int], Tuple[int]]] = None):\n",
    "        self.player1 = list(player1)\n",
    "        self.player2 = list(player2)\n",
    "\n",
    "        self.prior_states = prior_states or set()\n",
    "    \n",
    "    def state_snapshot(self):\n",
    "        return (tuple(self.player1), tuple(self.player2),)\n",
    "\n",
    "    def get_game_winner(self) -> int:\n",
    "        state = self.state_snapshot()\n",
    "        if state in self.prior_states:\n",
    "            return 1\n",
    "\n",
    "        self.prior_states.add(state)\n",
    "\n",
    "        return super().get_game_winner()\n",
    "\n",
    "    def get_round_winner(self, player1: int, player2: int) -> int:\n",
    "        if player1 <= len(self.player1) and player2 <= len(self.player2):\n",
    "            sub_game = RecursiveCombat(self.player1[:player1], self.player2[:player2])\n",
    "            winner, score = sub_game.run()\n",
    "            return winner\n",
    "        \n",
    "        return super().get_round_winner(player1, player2)\n",
    "        \n",
    "example_game = RecursiveCombat(*parse_input(example))\n",
    "example_result = example_game.run()\n",
    "print(f\"Example Recursive Result (part 2): {example_result}\")\n",
    "assert example_result == (2, 291)\n",
    "\n",
    "true_game = RecursiveCombat(*parse_input(data))\n",
    "true_result = true_game.run()\n",
    "print(f\"Recursive Result (part 2): {true_result}\")\n"
   ]
  },
  {
   "cell_type": "code",
   "execution_count": null,
   "metadata": {},
   "outputs": [],
   "source": []
  }
 ]
}