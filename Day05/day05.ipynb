{
 "metadata": {
  "language_info": {
   "codemirror_mode": {
    "name": "ipython",
    "version": 3
   },
   "file_extension": ".py",
   "mimetype": "text/x-python",
   "name": "python",
   "nbconvert_exporter": "python",
   "pygments_lexer": "ipython3",
   "version": "3.8.3-final"
  },
  "orig_nbformat": 2,
  "kernelspec": {
   "name": "python3",
   "display_name": "Python 3.8.3 64-bit",
   "metadata": {
    "interpreter": {
     "hash": "8eaaf4aeae68107eef80d92da26d6c25334845f2231709207bcb2e9c0e1d5c54"
    }
   }
  }
 },
 "nbformat": 4,
 "nbformat_minor": 2,
 "cells": [
  {
   "cell_type": "code",
   "execution_count": 10,
   "metadata": {},
   "outputs": [
    {
     "output_type": "stream",
     "name": "stdout",
     "text": [
      "Testing seat BFFFBBFRRR\n  PASS\nTesting seat FFFBBBFRRR\n  PASS\nTesting seat BBFFBBFRLL\n  PASS\n"
     ]
    }
   ],
   "source": [
    "from typing import Tuple\n",
    "\n",
    "class Seat(object):\n",
    "    def __init__(self, spec: str):\n",
    "        self.spec = spec\n",
    "\n",
    "        self.row = self.__get_row(spec)\n",
    "        self.column = self.__get_column(spec)\n",
    "\n",
    "    @property\n",
    "    def id(self) -> int:\n",
    "        return self.row * 8 + self.column\n",
    "\n",
    "    def __get_row(self, spec: str) -> int:\n",
    "        range = self.__bisect(spec, left=\"F\", right=\"B\", range=(0, 127))\n",
    "\n",
    "        assert range[0] == range[1]\n",
    "        return range[0]\n",
    "\n",
    "    def __get_column(self, spec: str) -> int:\n",
    "        range = self.__bisect(spec, left=\"L\", right=\"R\", range=(0, 7))\n",
    "\n",
    "        assert range[0] == range[1]\n",
    "        return range[0]\n",
    "\n",
    "    def __bisect(self, spec: str, left: str, right: str, range: Tuple[int, int]) -> Tuple[int, int]:\n",
    "        for move in spec:\n",
    "            middle = int((range[1] - range[0]) / 2) + range[0]\n",
    "\n",
    "            if move == left:\n",
    "                range = (range[0], middle)\n",
    "            elif move == right:\n",
    "                range = (middle+1, range[1])\n",
    "            else:\n",
    "                continue\n",
    "\n",
    "        return range\n",
    "\n",
    "tests = [\n",
    "    { \"seat\": \"BFFFBBFRRR\", \"row\": 70, \"column\": 7, \"id\": 567 },\n",
    "    { \"seat\": \"FFFBBBFRRR\", \"row\": 14, \"column\": 7, \"id\": 119 },\n",
    "    { \"seat\": \"BBFFBBFRLL\", \"row\": 102, \"column\": 4, \"id\": 820 }\n",
    "]\n",
    "\n",
    "for test in tests:\n",
    "    print(f\"Testing seat {test['seat']}\")\n",
    "    seat = Seat(test[\"seat\"])\n",
    "    assert seat.row == test[\"row\"]\n",
    "    assert seat.column == test[\"column\"]\n",
    "    assert seat.id == test[\"id\"]\n",
    "    print(f\"  PASS\")"
   ]
  },
  {
   "cell_type": "code",
   "execution_count": 11,
   "metadata": {},
   "outputs": [
    {
     "output_type": "stream",
     "name": "stdout",
     "text": [
      "Max Seat ID: 894\n"
     ]
    }
   ],
   "source": [
    "with open(\"day05.txt\", \"r\") as f:\n",
    "    seats = list(Seat(line) for line in f.readlines())\n",
    "\n",
    "print(f\"Max Seat ID: {max(seat.id for seat in seats)}\")"
   ]
  },
  {
   "cell_type": "code",
   "execution_count": 13,
   "metadata": {},
   "outputs": [
    {
     "output_type": "stream",
     "name": "stdout",
     "text": [
      "Your seat ID should be 579 (from above)\nYour seat ID should be 579 (from below)\n"
     ]
    }
   ],
   "source": [
    "seat_ids = [seat.id for seat in seats]\n",
    "seat_ids.sort()\n",
    "\n",
    "for i in range(1, len(seat_ids)-1):\n",
    "    if seat_ids[i - 1] + 1 != seat_ids[i]:\n",
    "        print(f\"Your seat ID should be {seat_ids[i - 1] + 1} (from below)\")\n",
    "        \n",
    "    if seat_ids[i + 1] - 1 != seat_ids[i]:\n",
    "        print(f\"Your seat ID should be {seat_ids[i + 1] - 1} (from above)\")"
   ]
  },
  {
   "cell_type": "code",
   "execution_count": null,
   "metadata": {},
   "outputs": [],
   "source": []
  }
 ]
}