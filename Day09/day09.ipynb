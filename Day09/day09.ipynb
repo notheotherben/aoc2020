{
 "metadata": {
  "language_info": {
   "codemirror_mode": {
    "name": "ipython",
    "version": 3
   },
   "file_extension": ".py",
   "mimetype": "text/x-python",
   "name": "python",
   "nbconvert_exporter": "python",
   "pygments_lexer": "ipython3",
   "version": "3.8.3-final"
  },
  "orig_nbformat": 2,
  "kernelspec": {
   "name": "python3",
   "display_name": "Python 3.8.3 64-bit",
   "metadata": {
    "interpreter": {
     "hash": "8eaaf4aeae68107eef80d92da26d6c25334845f2231709207bcb2e9c0e1d5c54"
    }
   }
  }
 },
 "nbformat": 4,
 "nbformat_minor": 2,
 "cells": [
  {
   "cell_type": "code",
   "execution_count": 8,
   "metadata": {},
   "outputs": [],
   "source": [
    "example = list(map(int, \"\"\"\n",
    "35\n",
    "20\n",
    "15\n",
    "25\n",
    "47\n",
    "40\n",
    "62\n",
    "55\n",
    "65\n",
    "95\n",
    "102\n",
    "117\n",
    "150\n",
    "182\n",
    "127\n",
    "219\n",
    "299\n",
    "277\n",
    "309\n",
    "576\n",
    "\"\"\".strip().splitlines()))\n",
    "\n",
    "with open(\"day09.txt\", 'r') as f:\n",
    "    data = list(map(int, f.readlines()))"
   ]
  },
  {
   "cell_type": "code",
   "execution_count": 47,
   "metadata": {},
   "outputs": [
    {
     "output_type": "stream",
     "name": "stdout",
     "text": [
      "Found the following invalid entries in the test set: [127]\nFound the weakness for the test data: [15, 25, 47, 40]\nFound the weakness for the test data: [15, 25, 47, 40] (62)\n"
     ]
    }
   ],
   "source": [
    "from typing import List, Iterator\n",
    "\n",
    "class XmasCipher(object):\n",
    "    def __init__(self, lookback: int):\n",
    "        self.lookback = lookback\n",
    "\n",
    "        self._preamble = []\n",
    "\n",
    "    def is_valid(self, number: int) -> bool:\n",
    "        if len(self._preamble) < self.lookback:\n",
    "            return True\n",
    "\n",
    "        low = 0\n",
    "        high = self.lookback - 1\n",
    "        candidates = sorted(self._preamble)\n",
    "\n",
    "        while low < high:\n",
    "            candidate_sum = candidates[low] + candidates[high]\n",
    "            if candidate_sum == number:\n",
    "                return True\n",
    "            elif candidate_sum < number:\n",
    "                low += 1\n",
    "            else:\n",
    "                high -= 1\n",
    "\n",
    "        return False\n",
    "\n",
    "    def update(self, number: int):\n",
    "        self._preamble.append(number)\n",
    "        if len(self._preamble) > self.lookback:\n",
    "            self._preamble = self._preamble[1:]\n",
    "\n",
    "    def find_invalid(self, numbers: List[int]) -> Iterator[int]:\n",
    "        for number in numbers:\n",
    "            if not self.is_valid(number):\n",
    "                yield number\n",
    "\n",
    "            self.update(number)\n",
    "\n",
    "    @staticmethod\n",
    "    def find_weakness(numbers: List[int], target: int) -> List[int]:\n",
    "        # for low in range(0, len(numbers) - 1):\n",
    "        #     for high in range(low, len(numbers)):\n",
    "        #         total = sum(numbers[low:high])\n",
    "        #         if total == target:\n",
    "        #             return numbers[low:high]\n",
    "\n",
    "        # return []\n",
    "\n",
    "\n",
    "        min_length = 2\n",
    "        low = 0\n",
    "        high = 1\n",
    "        total = sum(numbers[low:high+1])\n",
    "\n",
    "        while high < len(numbers):\n",
    "            if total == target:\n",
    "                return numbers[low:high+1]\n",
    "            elif total > target and low <= high - min_length:\n",
    "                total -= numbers[low]\n",
    "                low += 1\n",
    "            else:\n",
    "                if high + 1 == len(numbers):\n",
    "                    break\n",
    "\n",
    "                high += 1\n",
    "                total += numbers[high]\n",
    "        \n",
    "        return []\n",
    "\n",
    "\n",
    "\n",
    "test_cipher = XmasCipher(lookback=5)\n",
    "test_invalids = list(test_cipher.find_invalid(example))\n",
    "print(f\"Found the following invalid entries in the test set: {test_invalids}\")\n",
    "assert test_invalids == [127]\n",
    "        \n",
    "test_weakness = XmasCipher.find_weakness(example, 127)\n",
    "print(f\"Found the weakness for the test data: {test_weakness}\")\n",
    "assert test_weakness == [15, 25, 47, 40]\n",
    "print(f\"Found the weakness for the test data: {test_weakness} ({min(test_weakness) + max(test_weakness)})\")"
   ]
  },
  {
   "cell_type": "code",
   "execution_count": 48,
   "metadata": {
    "tags": []
   },
   "outputs": [
    {
     "output_type": "stream",
     "name": "stdout",
     "text": [
      "Found the following invalid entries in the true set: [105950735]\nFound the weakness for the true data: [4117189, 4154061, 4424828, 4208390, 5060031, 4391939, 8942999, 5977809, 8491671, 5334788, 8808360, 5708469, 7418529, 5800654, 9709726, 6431377, 6969915] (13826915)\n"
     ]
    }
   ],
   "source": [
    "true_cipher = XmasCipher(lookback=25)\n",
    "true_invalids = list(true_cipher.find_invalid(data))\n",
    "print(f\"Found the following invalid entries in the true set: {true_invalids}\")\n",
    "\n",
    "true_weakness = XmasCipher.find_weakness(data, 105950735)\n",
    "print(f\"Found the weakness for the true data: {true_weakness} ({min(true_weakness) + max(true_weakness)})\")"
   ]
  },
  {
   "cell_type": "code",
   "execution_count": null,
   "metadata": {},
   "outputs": [],
   "source": []
  }
 ]
}