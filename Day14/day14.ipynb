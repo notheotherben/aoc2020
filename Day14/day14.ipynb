{
 "metadata": {
  "language_info": {
   "codemirror_mode": {
    "name": "ipython",
    "version": 3
   },
   "file_extension": ".py",
   "mimetype": "text/x-python",
   "name": "python",
   "nbconvert_exporter": "python",
   "pygments_lexer": "ipython3",
   "version": "3.8.3-final"
  },
  "orig_nbformat": 2,
  "kernelspec": {
   "name": "python3",
   "display_name": "Python 3.8.3 64-bit",
   "metadata": {
    "interpreter": {
     "hash": "8eaaf4aeae68107eef80d92da26d6c25334845f2231709207bcb2e9c0e1d5c54"
    }
   }
  }
 },
 "nbformat": 4,
 "nbformat_minor": 2,
 "cells": [
  {
   "cell_type": "code",
   "execution_count": 14,
   "metadata": {},
   "outputs": [],
   "source": [
    "example = \"\"\"\n",
    "mask = XXXXXXXXXXXXXXXXXXXXXXXXXXXXX1XXXX0X\n",
    "mem[8] = 11\n",
    "mem[7] = 101\n",
    "mem[8] = 0\n",
    "\"\"\".strip().splitlines()\n",
    "\n",
    "with open(\"day14.txt\", \"r\") as f:\n",
    "    data = f.readlines()"
   ]
  },
  {
   "cell_type": "code",
   "execution_count": 15,
   "metadata": {},
   "outputs": [],
   "source": [
    "from typing import List, Union, Dict\n",
    "from collections import defaultdict\n",
    "\n",
    "class MaskedMemory(object):\n",
    "    def __init__(self, bits: int = 36):\n",
    "        self.mask = [\n",
    "            None\n",
    "            for i in range(bits)\n",
    "        ]\n",
    "\n",
    "        self.memory: Dict[int, int] = defaultdict(lambda: 0)\n",
    "\n",
    "    @property\n",
    "    def memory_total(self) -> int:\n",
    "        return sum(self.memory.values())\n",
    "\n",
    "    def set_mask(self, mask: Union[str, List[Union[int, None]]]):\n",
    "        if isinstance(mask, str):\n",
    "            mask = [\n",
    "                int(bit)\n",
    "                if bit != 'X'\n",
    "                else None\n",
    "                for bit in mask\n",
    "            ]\n",
    "\n",
    "        self.mask = mask\n",
    "\n",
    "    def write(self, address: int, value: int):\n",
    "        for i, bit in enumerate(self.mask):\n",
    "            if bit is None:\n",
    "                continue\n",
    "\n",
    "            shifted_bit = 1 << (len(self.mask) - i - 1)\n",
    "\n",
    "            if bit == 0:\n",
    "                value = value & (~shifted_bit)\n",
    "            else:\n",
    "                value = value | shifted_bit\n",
    "\n",
    "        self.memory[address] = value\n",
    "\n",
    "test_memory = MaskedMemory()\n",
    "test_memory.set_mask(\"XXXXXXXXXXXXXXXXXXXXXXXXXXXXX1XXXX0X\")\n",
    "test_memory.write(8, 11)\n",
    "assert test_memory.memory_total == 73\n",
    "test_memory.write(7, 101)\n",
    "assert test_memory.memory_total == 174\n",
    "test_memory.write(8, 0)\n",
    "assert test_memory.memory_total == 165"
   ]
  },
  {
   "cell_type": "code",
   "execution_count": 16,
   "metadata": {},
   "outputs": [],
   "source": [
    "class InstructionProcessor(object):\n",
    "    def __init__(self, memory: MaskedMemory):\n",
    "        self.memory = memory\n",
    "\n",
    "    def process(self, instruction: str):\n",
    "        left, right = map(lambda s: s.strip(), instruction.split('='))\n",
    "\n",
    "        if left == \"mask\":\n",
    "            return self.memory.set_mask(right)\n",
    "\n",
    "        addr = int(left[left.index(\"[\")+1:left.index(\"]\")])\n",
    "        return self.memory.write(addr, int(right))\n",
    "\n",
    "    \n",
    "test_processor = InstructionProcessor(MaskedMemory())\n",
    "\n",
    "for line in example:\n",
    "    test_processor.process(line)\n",
    "\n",
    "assert test_processor.memory.memory_total == 165\n",
    "        "
   ]
  },
  {
   "cell_type": "code",
   "execution_count": 18,
   "metadata": {},
   "outputs": [
    {
     "output_type": "stream",
     "name": "stdout",
     "text": [
      "Final Sum (part 1): 13727901897109\n"
     ]
    }
   ],
   "source": [
    "part1_processor = InstructionProcessor(MaskedMemory())\n",
    "for line in data:\n",
    "    part1_processor.process(line)\n",
    "\n",
    "print(f\"Final Sum (part 1): {part1_processor.memory.memory_total}\")"
   ]
  },
  {
   "cell_type": "code",
   "execution_count": 34,
   "metadata": {},
   "outputs": [],
   "source": [
    "from typing import Iterator\n",
    "\n",
    "class AddressMaskedMemory(MaskedMemory):\n",
    "    def write(self, address: int, value: int):\n",
    "        for addr in self.get_addresses(address):\n",
    "            self.memory[addr] = value\n",
    "\n",
    "    def get_addresses(self, address: int) -> Iterator[int]:\n",
    "        floating_bits = [\n",
    "            len(self.mask) - i - 1\n",
    "            for i, bit in enumerate(self.mask)\n",
    "            if bit is None\n",
    "        ]\n",
    "\n",
    "        for i, bit in enumerate(self.mask):\n",
    "            if bit == 1:\n",
    "                shifted_bit = 1 << (len(self.mask) - i - 1)\n",
    "                address = address | shifted_bit\n",
    "\n",
    "        for bit_set in range(0, 2**len(floating_bits)):\n",
    "            addr = address\n",
    "            for i, bit in enumerate(floating_bits):\n",
    "                shifted_bit = 1 << bit\n",
    "                if (bit_set & 2**i) != 0:\n",
    "                    addr = addr & (~shifted_bit)\n",
    "                else:\n",
    "                    addr = addr | shifted_bit\n",
    "\n",
    "            yield addr\n",
    "\n",
    "test_memory = AddressMaskedMemory()\n",
    "test_memory.set_mask(\"000000000000000000000000000000X1001X\")\n",
    "test_memory.write(42, 100)\n",
    "assert test_memory.memory_total == 400\n",
    "test_memory.set_mask(\"00000000000000000000000000000000X0XX\")\n",
    "test_memory.write(26, 1)\n",
    "assert test_memory.memory_total == 208\n"
   ]
  },
  {
   "cell_type": "code",
   "execution_count": 35,
   "metadata": {},
   "outputs": [
    {
     "output_type": "stream",
     "name": "stdout",
     "text": [
      "Final Sum (part 2): 5579916171823\n"
     ]
    }
   ],
   "source": [
    "part2_processor = InstructionProcessor(AddressMaskedMemory())\n",
    "for line in data:\n",
    "    part2_processor.process(line)\n",
    "\n",
    "print(f\"Final Sum (part 2): {part2_processor.memory.memory_total}\")"
   ]
  },
  {
   "cell_type": "code",
   "execution_count": null,
   "metadata": {},
   "outputs": [],
   "source": []
  }
 ]
}