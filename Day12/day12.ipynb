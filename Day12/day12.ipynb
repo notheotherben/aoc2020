{
 "metadata": {
  "language_info": {
   "codemirror_mode": {
    "name": "ipython",
    "version": 3
   },
   "file_extension": ".py",
   "mimetype": "text/x-python",
   "name": "python",
   "nbconvert_exporter": "python",
   "pygments_lexer": "ipython3",
   "version": "3.8.3-final"
  },
  "orig_nbformat": 2,
  "kernelspec": {
   "name": "python3",
   "display_name": "Python 3.8.3 64-bit",
   "metadata": {
    "interpreter": {
     "hash": "8eaaf4aeae68107eef80d92da26d6c25334845f2231709207bcb2e9c0e1d5c54"
    }
   }
  }
 },
 "nbformat": 4,
 "nbformat_minor": 2,
 "cells": [
  {
   "cell_type": "code",
   "execution_count": 1,
   "metadata": {},
   "outputs": [],
   "source": [
    "example = \"\"\"\n",
    "F10\n",
    "N3\n",
    "F7\n",
    "R90\n",
    "F11\n",
    "\"\"\".strip().splitlines()\n",
    "\n",
    "with open('day12.txt', 'r') as f:\n",
    "    data = f.readlines()"
   ]
  },
  {
   "cell_type": "code",
   "execution_count": 8,
   "metadata": {},
   "outputs": [],
   "source": [
    "class Ship(object):\n",
    "    def __init__(self):\n",
    "        self.x = 0\n",
    "        self.y = 0\n",
    "        self.bearing = 90\n",
    "\n",
    "    @property\n",
    "    def bearing_direction(self) -> str:\n",
    "        directions = ['N', 'E', 'S', 'W']\n",
    "        return directions[int(self.bearing / 90) % len(directions)]\n",
    "\n",
    "    def manhattan_distance(self) -> int:\n",
    "        return abs(self.x) + abs(self.y)\n",
    "\n",
    "    def command(self, instruction: str):\n",
    "        command = instruction[0]\n",
    "        offset = int(instruction[1:])\n",
    "\n",
    "        getattr(self, f\"command{command}\")(offset)\n",
    "\n",
    "    def commandN(self, offset: int):\n",
    "        self.y += offset\n",
    "\n",
    "    def commandS(self, offset: int):\n",
    "        self.y -= offset\n",
    "\n",
    "    def commandE(self, offset: int):\n",
    "        self.x += offset\n",
    "    \n",
    "    def commandW(self, offset: int):\n",
    "        self.x -= offset\n",
    "\n",
    "    def commandL(self, offset: int):\n",
    "        self.bearing -= offset\n",
    "\n",
    "    def commandR(self, offset: int):\n",
    "        self.bearing += offset\n",
    "\n",
    "    def commandF(self, offset: int):\n",
    "        self.command(f\"{self.bearing_direction}{offset}\")\n",
    "\n",
    "test_ship = Ship()\n",
    "for instruction in example:\n",
    "    test_ship.command(instruction)\n",
    "\n",
    "assert test_ship.manhattan_distance() == 25\n"
   ]
  },
  {
   "cell_type": "code",
   "execution_count": 9,
   "metadata": {},
   "outputs": [
    {
     "output_type": "stream",
     "name": "stdout",
     "text": [
      "Ship final position: -1066, -1162 (distance: 2228)\n"
     ]
    }
   ],
   "source": [
    "true_ship = Ship()\n",
    "for instruction in data:\n",
    "    true_ship.command(instruction)\n",
    "\n",
    "print(f\"Ship final position: {true_ship.x}, {true_ship.y} (distance: {true_ship.manhattan_distance()})\")"
   ]
  },
  {
   "cell_type": "code",
   "execution_count": 13,
   "metadata": {},
   "outputs": [],
   "source": [
    "def sign(num: int) -> int:\n",
    "    return 1 if num >= 0 else -1\n",
    "\n",
    "class Waypoint(object):\n",
    "    def __init__(self, ship: Ship, x: int = 0, y: int = 0):\n",
    "        self.ship = ship\n",
    "        self.x = x\n",
    "        self.y = y\n",
    "\n",
    "    def command(self, instruction: str):\n",
    "        command = instruction[0]\n",
    "        offset = int(instruction[1:])\n",
    "\n",
    "        getattr(self, f\"command{command}\")(offset)\n",
    "    \n",
    "    def commandN(self, offset: int):\n",
    "        self.y += offset\n",
    "\n",
    "    def commandS(self, offset: int):\n",
    "        self.y -= offset\n",
    "\n",
    "    def commandE(self, offset: int):\n",
    "        self.x += offset\n",
    "    \n",
    "    def commandW(self, offset: int):\n",
    "        self.x -= offset\n",
    "\n",
    "    def commandL(self, offset: int):\n",
    "        while offset > 0:\n",
    "            self.x, self.y = -self.y, self.x\n",
    "            offset -= 90\n",
    "\n",
    "    def commandR(self, offset: int):\n",
    "        while offset > 0:\n",
    "            self.x, self.y = self.y, -self.x\n",
    "            offset -= 90\n",
    "        \n",
    "    def commandF(self, offset: int):\n",
    "        self.ship.x += self.x * offset\n",
    "        self.ship.y += self.y * offset\n",
    "\n",
    "test_waypoint = Waypoint(Ship(), x=10, y=1)\n",
    "for instruction in example:\n",
    "    test_waypoint.command(instruction)\n",
    "\n",
    "assert test_waypoint.ship.manhattan_distance() == 286"
   ]
  },
  {
   "cell_type": "code",
   "execution_count": 14,
   "metadata": {},
   "outputs": [
    {
     "output_type": "stream",
     "name": "stdout",
     "text": [
      "Ship final position: 5507, -37401 (distance: 42908)\n"
     ]
    }
   ],
   "source": [
    "true_waypoint = Waypoint(Ship(), x=10, y=1)\n",
    "for instruction in data:\n",
    "    true_waypoint.command(instruction)\n",
    "\n",
    "print(f\"Ship final position: {true_waypoint.ship.x}, {true_waypoint.ship.y} (distance: {true_waypoint.ship.manhattan_distance()})\")"
   ]
  },
  {
   "cell_type": "code",
   "execution_count": null,
   "metadata": {},
   "outputs": [],
   "source": []
  }
 ]
}