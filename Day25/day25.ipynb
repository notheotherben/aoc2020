{
 "metadata": {
  "language_info": {
   "codemirror_mode": {
    "name": "ipython",
    "version": 3
   },
   "file_extension": ".py",
   "mimetype": "text/x-python",
   "name": "python",
   "nbconvert_exporter": "python",
   "pygments_lexer": "ipython3",
   "version": "3.8.3-final"
  },
  "orig_nbformat": 2,
  "kernelspec": {
   "name": "python3",
   "display_name": "Python 3.8.3 64-bit",
   "metadata": {
    "interpreter": {
     "hash": "8eaaf4aeae68107eef80d92da26d6c25334845f2231709207bcb2e9c0e1d5c54"
    }
   }
  }
 },
 "nbformat": 4,
 "nbformat_minor": 2,
 "cells": [
  {
   "cell_type": "code",
   "execution_count": 3,
   "metadata": {},
   "outputs": [],
   "source": [
    "example = (5764801, 17807724)\n",
    "real = (11404017, 13768789)"
   ]
  },
  {
   "cell_type": "code",
   "execution_count": 15,
   "metadata": {},
   "outputs": [],
   "source": [
    "class Cipher(object):\n",
    "    def __init__(self, subject_number: int = 7, modulo_key: int = 20201227):\n",
    "        self.subject_number = subject_number\n",
    "        self.modulo_key = modulo_key\n",
    "\n",
    "    def find_loopsize(self, publickey: int, max_size: int = 100000000) -> int:\n",
    "        value = 1\n",
    "\n",
    "        for i in range(1, max_size + 1):\n",
    "            value *= self.subject_number\n",
    "            value %= self.modulo_key\n",
    "\n",
    "            if value == publickey:\n",
    "                return i\n",
    "\n",
    "\n",
    "        raise Exception(\"Could not find a valid loop number for the public key\")\n",
    "\n",
    "    def find_encryptionkey(self, publickey1: int, publickey2: int) -> int:\n",
    "        loopsize1 = self.find_loopsize(publickey1)\n",
    "\n",
    "        key = 1\n",
    "        for i in range(0, loopsize1):\n",
    "            key *= publickey2\n",
    "            key %= self.modulo_key\n",
    "\n",
    "        return key\n",
    "\n",
    "cipher = Cipher()\n",
    "assert cipher.find_loopsize(example[0]) == 8\n",
    "assert cipher.find_loopsize(example[1]) == 11\n",
    "\n",
    "assert cipher.find_encryptionkey(*example) == 14897079\n",
    "assert cipher.find_encryptionkey(*reversed(example)) == 14897079"
   ]
  },
  {
   "cell_type": "code",
   "execution_count": 16,
   "metadata": {},
   "outputs": [
    {
     "output_type": "stream",
     "name": "stdout",
     "text": [
      "18862163\n"
     ]
    }
   ],
   "source": [
    "print(cipher.find_encryptionkey(*real))"
   ]
  },
  {
   "cell_type": "code",
   "execution_count": null,
   "metadata": {},
   "outputs": [],
   "source": []
  }
 ]
}