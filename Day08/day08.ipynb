{
 "metadata": {
  "language_info": {
   "codemirror_mode": {
    "name": "ipython",
    "version": 3
   },
   "file_extension": ".py",
   "mimetype": "text/x-python",
   "name": "python",
   "nbconvert_exporter": "python",
   "pygments_lexer": "ipython3",
   "version": "3.8.3-final"
  },
  "orig_nbformat": 2,
  "kernelspec": {
   "name": "python3",
   "display_name": "Python 3.8.3 64-bit",
   "metadata": {
    "interpreter": {
     "hash": "8eaaf4aeae68107eef80d92da26d6c25334845f2231709207bcb2e9c0e1d5c54"
    }
   }
  }
 },
 "nbformat": 4,
 "nbformat_minor": 2,
 "cells": [
  {
   "cell_type": "code",
   "execution_count": 1,
   "metadata": {},
   "outputs": [],
   "source": [
    "example = \"\"\"\n",
    "nop +0\n",
    "acc +1\n",
    "jmp +4\n",
    "acc +3\n",
    "jmp -3\n",
    "acc -99\n",
    "acc +1\n",
    "jmp -4\n",
    "acc +6\n",
    "\"\"\".strip().splitlines()\n",
    "\n",
    "with open(\"day08.txt\", \"r\") as f:\n",
    "    data = f.readlines()"
   ]
  },
  {
   "cell_type": "code",
   "execution_count": 25,
   "metadata": {},
   "outputs": [],
   "source": [
    "class State(object):\n",
    "    def __init__(self):\n",
    "        self.accumulator = 0\n",
    "        self.program_counter = 0\n",
    "\n",
    "    def accumulate(self, add: int):\n",
    "        self.accumulator += add\n",
    "\n",
    "    def jump(self, offset: int):\n",
    "        self.program_counter += offset - 1\n",
    "\n",
    "    def reset(self):\n",
    "        self.accumulator = 0\n",
    "        self.program_counter = 0"
   ]
  },
  {
   "cell_type": "code",
   "execution_count": 26,
   "metadata": {},
   "outputs": [],
   "source": [
    "from typing import Dict, Callable\n",
    "from re import match\n",
    "\n",
    "class Instruction(object):\n",
    "    def __init__(self, instruction: str):\n",
    "        matches = match(r\"^(\\w+) ([+\\-]\\d+)$\", instruction)\n",
    "        self.code = matches[1]\n",
    "        self.argument = int(matches[2])\n",
    "\n",
    "        self.run_count = 0\n",
    "\n",
    "    kinds: Dict[str, Callable[[int, State], None]] = {\n",
    "        \"nop\": lambda arg, state: 0,\n",
    "        \"acc\": lambda arg, state: state.accumulate(arg),\n",
    "        \"jmp\": lambda arg, state: state.jump(arg),\n",
    "    }\n",
    "\n",
    "    def run(self, state: State):\n",
    "        if self.code in Instruction.kinds:\n",
    "            Instruction.kinds[self.code](self.argument, state)\n",
    "        \n",
    "        self.run_count += 1\n",
    "        state.program_counter += 1\n",
    "\n",
    "    def reset(self):\n",
    "        self.run_count = 0\n",
    "\n",
    "assert Instruction(\"nop +0\").code == \"nop\"\n",
    "assert Instruction(\"nop +0\").argument == 0\n",
    "\n",
    "test_state = State()\n",
    "test_instruction = Instruction(\"acc +5\")\n",
    "test_instruction.run(test_state)\n",
    "assert test_instruction.run_count == 1\n",
    "assert test_state.accumulator == 5\n",
    "assert test_state.program_counter == 1"
   ]
  },
  {
   "cell_type": "code",
   "execution_count": 27,
   "metadata": {},
   "outputs": [],
   "source": [
    "from typing import List\n",
    "\n",
    "class Program(object):\n",
    "    def __init__(self, instructions: List[str]):\n",
    "        self.instructions = [Instruction(instruction) for instruction in instructions]\n",
    "        self.state = State()\n",
    "\n",
    "    def run_distinct(self):\n",
    "        while 0 <= self.state.program_counter < len(self.instructions) and self.instructions[self.state.program_counter].run_count < 1:\n",
    "            self.instructions[self.state.program_counter].run(self.state)\n",
    "\n",
    "    def run_to_end(self) -> bool:\n",
    "        while 0 <= self.state.program_counter < len(self.instructions) and self.instructions[self.state.program_counter].run_count < 1:\n",
    "            self.instructions[self.state.program_counter].run(self.state)\n",
    "\n",
    "        return self.state.program_counter < 0 or self.state.program_counter >= len(self.instructions)\n",
    "\n",
    "    def reset(self):\n",
    "        self.state.reset()\n",
    "        for instruction in self.instructions:\n",
    "            instruction.reset()\n",
    "\n",
    "test_program = Program(example)\n",
    "test_program.run_distinct()\n",
    "assert test_program.state.accumulator == 5"
   ]
  },
  {
   "cell_type": "code",
   "execution_count": 28,
   "metadata": {},
   "outputs": [
    {
     "output_type": "stream",
     "name": "stdout",
     "text": [
      "Program accumulator value was 1810 before it looped\n"
     ]
    }
   ],
   "source": [
    "program = Program(data)\n",
    "program.run_distinct()\n",
    "print(f\"Program accumulator value was {program.state.accumulator} before it looped\")"
   ]
  },
  {
   "source": [
    "## Second Part\n",
    "We'll iterate through each instruction and test, if we switch it from `nop` to `jmp` (or vice versa) whether the program terminates correctly."
   ],
   "cell_type": "markdown",
   "metadata": {}
  },
  {
   "cell_type": "code",
   "execution_count": 31,
   "metadata": {},
   "outputs": [
    {
     "output_type": "stream",
     "name": "stdout",
     "text": [
      "Found a termination condition with accumulator 969\n"
     ]
    }
   ],
   "source": [
    "for instruction in program.instructions:\n",
    "    program.reset()\n",
    "    old_code = instruction.code\n",
    "\n",
    "    if old_code == \"nop\":\n",
    "        instruction.code = \"jmp\"\n",
    "    elif old_code == \"jmp\":\n",
    "        instruction.code = \"nop\"\n",
    "    else:\n",
    "        # We know that making a change will not alter the outcome\n",
    "        continue\n",
    "\n",
    "    if program.run_to_end():\n",
    "        print(f\"Found a termination condition with accumulator {program.state.accumulator}\")\n",
    "\n",
    "    instruction.code = old_code"
   ]
  },
  {
   "cell_type": "code",
   "execution_count": null,
   "metadata": {},
   "outputs": [],
   "source": []
  }
 ]
}