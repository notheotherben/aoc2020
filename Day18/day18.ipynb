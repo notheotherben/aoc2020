{
 "metadata": {
  "language_info": {
   "codemirror_mode": {
    "name": "ipython",
    "version": 3
   },
   "file_extension": ".py",
   "mimetype": "text/x-python",
   "name": "python",
   "nbconvert_exporter": "python",
   "pygments_lexer": "ipython3",
   "version": "3.8.3-final"
  },
  "orig_nbformat": 2,
  "kernelspec": {
   "name": "python3",
   "display_name": "Python 3.8.3 64-bit",
   "metadata": {
    "interpreter": {
     "hash": "8eaaf4aeae68107eef80d92da26d6c25334845f2231709207bcb2e9c0e1d5c54"
    }
   }
  }
 },
 "nbformat": 4,
 "nbformat_minor": 2,
 "cells": [
  {
   "source": [
    "# Math Parser\n",
    "This solution uses a full-blown parser to evaluate the math expressions. I'm using a recursive descent parser to build an\n",
    "Abstract Syntax Tree (AST) representing the mathematical expression and then using a `Visitor` to simplify that AST into\n",
    "a final `MathConstant` containing the result."
   ],
   "cell_type": "markdown",
   "metadata": {}
  },
  {
   "cell_type": "code",
   "execution_count": 46,
   "metadata": {},
   "outputs": [],
   "source": [
    "class MathExpression(object):\n",
    "    def get_value(self) -> int:\n",
    "        raise NotImplementedError()\n",
    "\n",
    "class MathConstant(MathExpression):\n",
    "    def __init__(self, value: int):\n",
    "        self.value = value\n",
    "\n",
    "    def __eq__(self, other):\n",
    "        return isinstance(other, MathConstant) and self.value == other.value\n",
    "\n",
    "    def __str__(self):\n",
    "        return str(self.value)\n",
    "\n",
    "    def __repr__(self):\n",
    "        return f\"MathConstant({self.value})\"\n",
    "\n",
    "class MathGroup(MathExpression):\n",
    "    def __init__(self, child: MathExpression):\n",
    "        self.child = child\n",
    "\n",
    "    def __eq__(self, other):\n",
    "        return isinstance(other, MathGroup) and self.child == other.child\n",
    "\n",
    "    def __str__(self):\n",
    "        return f\"({str(self.child)})\"\n",
    "\n",
    "    def __repr__(self):\n",
    "        return f\"MathGroup({repr(self.child)})\"\n",
    "\n",
    "class MathBinaryExpression(MathExpression):\n",
    "    def __init__(self, left: MathExpression, operator: str, right: MathExpression):\n",
    "        self.left = left\n",
    "        self.operator = operator\n",
    "        self.right = right\n",
    "\n",
    "    def __eq__(self, other):\n",
    "        return isinstance(other, MathBinaryExpression) and self.left == other.left and self.operator == other.operator and self.right == other.right\n",
    "\n",
    "    def __str__(self):\n",
    "        return f\"{str(self.left)} {self.operator} {str(self.right)}\"\n",
    "\n",
    "    def __repr__(self):\n",
    "        return f\"MathBinaryExpression({repr(self.left)}, '{self.operator}', {repr(self.right)})\""
   ]
  },
  {
   "source": [
    "## Visitor\n",
    "We're using a visitor pattern implementation to navigate the AST, which makes evaluating the final values relatively straightforward.\n",
    "This also (concievably) allows us to do things like simplifying the tree, printing out step-by-step solutions etc."
   ],
   "cell_type": "markdown",
   "metadata": {}
  },
  {
   "cell_type": "code",
   "execution_count": 84,
   "metadata": {},
   "outputs": [],
   "source": [
    "class Visitor(object):\n",
    "    def visit(self, expression: MathExpression) -> MathExpression:\n",
    "        if isinstance(expression, MathConstant):\n",
    "            return self.visit_constant(expression)\n",
    "\n",
    "        if isinstance(expression, MathGroup):\n",
    "            return self.visit_group(expression)\n",
    "\n",
    "        if isinstance(expression, MathBinaryExpression):\n",
    "            return self.visit_binary(expression)\n",
    "\n",
    "    def visit_constant(self, expression: MathConstant) -> MathExpression:\n",
    "        return expression\n",
    "\n",
    "    def visit_group(self, expression: MathGroup) -> MathExpression:\n",
    "        return MathGroup(self.visit(expression.child))\n",
    "\n",
    "    def visit_binary(self, expression: MathBinaryExpression) -> MathExpression:\n",
    "        return MathBinaryExpression(self.visit(expression.left), expression.operator, self.visit(expression.right))\n",
    "\n",
    "\n",
    "class EvaluateVisitor(Visitor):\n",
    "    def visit_group(self, expression: MathGroup):\n",
    "        return self.visit(expression.child)\n",
    "\n",
    "    def visit_binary(self, expression: MathBinaryExpression):\n",
    "        operators = {\n",
    "            '+': lambda a, b: a + b,\n",
    "            '*': lambda a, b: a * b,\n",
    "        }\n",
    "\n",
    "        if expression.operator not in operators:\n",
    "            raise NotImplementedError(f\"The '{expression.operator}' operator is not currently supported.\")\n",
    "\n",
    "        left = self.visit(expression.left)\n",
    "        right = self.visit(expression.right)\n",
    "\n",
    "        assert isinstance(left, MathConstant)\n",
    "        assert isinstance(right, MathConstant)\n",
    "\n",
    "        return MathConstant(operators[expression.operator](left.value, right.value))\n",
    "\n",
    "evaluator = EvaluateVisitor()\n",
    "\n",
    "\n",
    "assert evaluator.visit(MathBinaryExpression(MathConstant(5), '+', MathBinaryExpression(MathConstant(3), '*', MathConstant(2)))) == MathConstant(11)\n"
   ]
  },
  {
   "source": [
    "## Tokenizer\n",
    "\n",
    "The tokenizer is a relatively simple `LR(1)` tokenizer implementation that generates a stream of distinct tokens\n",
    "which will act as the input to the parser. Using a tokenizer means that the parser doesn't need to think about\n",
    "where tokens start and end, simplifying some of the code and making it possible to index into specific tokens\n",
    "positionally (i.e. `tokens[0]`, `tokens[1]` etc.).\n",
    "\n",
    "To keep the token implementation easy to read, we're using a generator and storing this in a list. With a bit of\n",
    "extra effort, we could retain only the current token in memory and generate the remainder on demand, allowing us\n",
    "to parse potentially very large expressions efficiently."
   ],
   "cell_type": "markdown",
   "metadata": {}
  },
  {
   "cell_type": "code",
   "execution_count": null,
   "metadata": {},
   "outputs": [],
   "source": [
    "from typing import List, Iterator, Dict\n",
    "\n",
    "class MathTokenizer(object):\n",
    "    def parse(self, input: str) -> List[str]:\n",
    "        return list(self.token_stream(input))\n",
    "\n",
    "    def token_stream(self, input: str) -> Iterator[str]:\n",
    "        position = 0\n",
    "        while position < len(input):\n",
    "            if input[position] in ['(', ')', '+', '*']:\n",
    "                yield input[position]\n",
    "                position += 1\n",
    "            elif input[position].isdigit():\n",
    "                digits = \"\"\n",
    "                while position < len(input) and input[position].isdigit():\n",
    "                    digits += input[position]\n",
    "                    position += 1\n",
    "\n",
    "                yield digits\n",
    "            else:\n",
    "                position += 1\n",
    "\n",
    "tokenizer = MathTokenizer()\n",
    "assert tokenizer.parse(\"1 + 12 * (3 + 30)\") == [\"1\", \"+\", \"12\", \"*\", \"(\", \"3\", \"+\", \"30\", \")\"]"
   ]
  },
  {
   "source": [
    "## Parser\n",
    "The parser is a Recursive Descent parser with Operator-Precedence support. A call to the `.parse(tokens)` method will provide you with a `MathExpression` which can then be consumed through the `Visitor`, or debugged directly."
   ],
   "cell_type": "markdown",
   "metadata": {}
  },
  {
   "cell_type": "code",
   "execution_count": 96,
   "metadata": {},
   "outputs": [
    {
     "output_type": "stream",
     "name": "stdout",
     "text": [
      "Parsed [1 + (2 * 3) + (4 * (5 + 6))] into [1 + (2 * 3) + (4 * (5 + 6))]\n  evaluate(parsed) -> 51\nParsed [2 * 3 + (4 * 5)] into [2 * 3 + (4 * 5)]\n  evaluate(parsed) -> 26\nParsed [1 + 2 * 3 + 4 * 5 + 6] into [1 + 2 * 3 + 4 * 5 + 6]\n  evaluate(parsed) -> 71\nParsed [5 + (8 * 3 + 9 + 3 * 4 * 3)] into [5 + (8 * 3 + 9 + 3 * 4 * 3)]\n  evaluate(parsed) -> 437\nParsed [5 * 9 * (7 * 3 * 3 + 9 * 3 + (8 + 6 * 4))] into [5 * 9 * (7 * 3 * 3 + 9 * 3 + (8 + 6 * 4))]\n  evaluate(parsed) -> 12240\nParsed [((2 + 4 * 9) * (6 + 9 * 8 + 6) + 6) + 2 + 4 * 2] into [((2 + 4 * 9) * (6 + 9 * 8 + 6) + 6) + 2 + 4 * 2]\n  evaluate(parsed) -> 13632\n"
     ]
    }
   ],
   "source": [
    "from typing import List, Dict\n",
    "\n",
    "\n",
    "class MathParser(object):\n",
    "    def __init__(self, operator_precedence: Dict[str, int] = None):\n",
    "        self.operator_precedence = operator_precedence or {\n",
    "            \"+\": 0,\n",
    "            \"*\": 0\n",
    "        }\n",
    "\n",
    "    def parse(self, tokens: List[str]) -> MathExpression:\n",
    "        result = self.parse_binary(tokens)\n",
    "        assert tokens == []\n",
    "\n",
    "        return result\n",
    "\n",
    "    def parse_binary(self, tokens: List[str], min_precedence: int = 0) -> MathBinaryExpression:\n",
    "        left = self.parse_group_or_constant(tokens)\n",
    "\n",
    "        while tokens and tokens[0] in self.operator_precedence and self.operator_precedence[tokens[0]] >= min_precedence:\n",
    "            operator = tokens.pop(0)\n",
    "\n",
    "            if self.operator_precedence[operator] == min_precedence:\n",
    "                right = self.parse_group_or_constant(tokens)\n",
    "            else:\n",
    "                right = self.parse_binary(tokens, min_precedence)\n",
    "\n",
    "                # We need to elevate the minimum precedence for this step so that we don't inadvertently merge lower precedence entries\n",
    "                min_precedence = self.operator_precedence[operator]\n",
    "\n",
    "            left = MathBinaryExpression(left, operator, right)\n",
    "\n",
    "        return left\n",
    "\n",
    "    def parse_group_or_constant(self, tokens: List[str]) -> MathExpression:\n",
    "        if tokens[0] == \"(\":\n",
    "            return self.parse_group(tokens)\n",
    "        else:\n",
    "            return self.parse_constant(tokens)\n",
    "\n",
    "    def parse_group(self, tokens: List[str]) -> MathGroup:\n",
    "        assert tokens.pop(0) == \"(\"\n",
    "        child = self.parse_binary(tokens)\n",
    "        assert tokens.pop(0) == \")\"\n",
    "        return MathGroup(child)\n",
    "\n",
    "    def parse_constant(self, tokens: List[str]) -> MathConstant:\n",
    "        return MathConstant(int(tokens.pop(0)))\n",
    "\n",
    "\n",
    "parser = MathParser()\n",
    "\n",
    "test_cases = {\n",
    "    \"1 + (2 * 3) + (4 * (5 + 6))\": 51,\n",
    "    \"2 * 3 + (4 * 5)\": 26,\n",
    "    \"1 + 2 * 3 + 4 * 5 + 6\": 71,\n",
    "    \"5 + (8 * 3 + 9 + 3 * 4 * 3)\": 437,\n",
    "    \"5 * 9 * (7 * 3 * 3 + 9 * 3 + (8 + 6 * 4))\": 12240,\n",
    "    \"((2 + 4 * 9) * (6 + 9 * 8 + 6) + 6) + 2 + 4 * 2\": 13632\n",
    "}\n",
    "\n",
    "for round_trip, final_value in test_cases.items():\n",
    "    tokens = tokenizer.parse(round_trip)\n",
    "    parsed = parser.parse(tokens)\n",
    "    print(f\"Parsed [{round_trip}] into [{str(parsed)}]\")\n",
    "    assert str(parsed) == round_trip\n",
    "\n",
    "    evaluated = evaluator.visit(parsed)\n",
    "\n",
    "    print(f\"  evaluate(parsed) -> {evaluated}\")\n",
    "    assert evaluated.value == final_value\n"
   ]
  },
  {
   "cell_type": "code",
   "execution_count": 95,
   "metadata": {},
   "outputs": [
    {
     "output_type": "stream",
     "name": "stdout",
     "text": [
      "Parsed [MathBinaryExpression(MathBinaryExpression(MathConstant(1), '+', MathConstant(2)), '*', MathBinaryExpression(MathBinaryExpression(MathConstant(3), '+', MathConstant(4)), '*', MathBinaryExpression(MathConstant(5), '+', MathConstant(6))))]\n   vs. [MathBinaryExpression(MathBinaryExpression(MathConstant(1), '+', MathConstant(2)), '*', MathBinaryExpression(MathBinaryExpression(MathConstant(3), '+', MathConstant(4)), '*', MathBinaryExpression(MathConstant(5), '+', MathConstant(6))))]\nParsed [1 + 2 * 3 + 4 * 5 + 6] into [1 + 2 * 3 + 4 * 5 + 6]\n  evaluate(parsed) -> 231\nParsed [1 + (2 * 3) + (4 * (5 + 6))] into [1 + (2 * 3) + (4 * (5 + 6))]\n  evaluate(parsed) -> 51\nParsed [2 * 3 + (4 * 5)] into [2 * 3 + (4 * 5)]\n  evaluate(parsed) -> 46\nParsed [5 + (8 * 3 + 9 + 3 * 4 * 3)] into [5 + (8 * 3 + 9 + 3 * 4 * 3)]\n  evaluate(parsed) -> 1445\nParsed [5 * 9 * (7 * 3 * 3 + 9 * 3 + (8 + 6 * 4))] into [5 * 9 * (7 * 3 * 3 + 9 * 3 + (8 + 6 * 4))]\n  evaluate(parsed) -> 669060\nParsed [((2 + 4 * 9) * (6 + 9 * 8 + 6) + 6) + 2 + 4 * 2] into [((2 + 4 * 9) * (6 + 9 * 8 + 6) + 6) + 2 + 4 * 2]\n  evaluate(parsed) -> 23340\n"
     ]
    }
   ],
   "source": [
    "parser2 = MathParser({\n",
    "    \"+\": 0,\n",
    "    \"*\": 1\n",
    "})\n",
    "\n",
    "test_cases = {\n",
    "    \"1 + 2 * 3 + 4 * 5 + 6\": MathBinaryExpression(\n",
    "        MathBinaryExpression(MathConstant(1), \"+\", MathConstant(2)),\n",
    "        \"*\",\n",
    "        MathBinaryExpression(\n",
    "            MathBinaryExpression(MathConstant(3), \"+\", MathConstant(4)),\n",
    "            \"*\",\n",
    "            MathBinaryExpression(MathConstant(5), \"+\", MathConstant(6))\n",
    "        ))\n",
    "}\n",
    "for expression, tree in test_cases.items():\n",
    "    tokens = tokenizer.parse(expression)\n",
    "    parsed = parser2.parse(tokens)\n",
    "    print(f\"Parsed [{repr(parsed)}]\")\n",
    "    print(f\"   vs. [{repr(tree)}]\")\n",
    "\n",
    "    assert parsed == tree\n",
    "\n",
    "test_cases = {\n",
    "    \"1 + 2 * 3 + 4 * 5 + 6\": 231,\n",
    "    \"1 + (2 * 3) + (4 * (5 + 6))\": 51,\n",
    "    \"2 * 3 + (4 * 5)\": 46,\n",
    "    \"5 + (8 * 3 + 9 + 3 * 4 * 3)\": 1445,\n",
    "    \"5 * 9 * (7 * 3 * 3 + 9 * 3 + (8 + 6 * 4))\": 669060,\n",
    "    \"((2 + 4 * 9) * (6 + 9 * 8 + 6) + 6) + 2 + 4 * 2\": 23340\n",
    "}\n",
    "\n",
    "for round_trip, final_value in test_cases.items():\n",
    "    tokens = tokenizer.parse(round_trip)\n",
    "    parsed = parser2.parse(tokens)\n",
    "    print(f\"Parsed [{round_trip}] into [{str(parsed)}]\")\n",
    "    assert str(parsed) == round_trip\n",
    "\n",
    "    evaluated = evaluator.visit(parsed)\n",
    "\n",
    "    print(f\"  evaluate(parsed) -> {evaluated}\")\n",
    "    assert evaluated.value == final_value"
   ]
  },
  {
   "cell_type": "code",
   "execution_count": 89,
   "metadata": {},
   "outputs": [
    {
     "output_type": "stream",
     "name": "stdout",
     "text": [
      "Total Sum (part 1): 21022630974613\n"
     ]
    }
   ],
   "source": [
    "with open('day18.txt', 'r') as f:\n",
    "    expressions = f.readlines()\n",
    "\n",
    "total_sum = 0\n",
    "for expression in expressions:\n",
    "    tokens = tokenizer.parse(expression)\n",
    "    parsed = parser.parse(tokens)\n",
    "    evaluated = evaluator.visit(parsed)\n",
    "    total_sum += evaluated.value\n",
    "\n",
    "print(f\"Total Sum (part 1): {total_sum}\")"
   ]
  },
  {
   "cell_type": "code",
   "execution_count": 91,
   "metadata": {},
   "outputs": [
    {
     "output_type": "stream",
     "name": "stdout",
     "text": [
      "Total Sum (part 2): 169899524778212\n"
     ]
    }
   ],
   "source": [
    "total_sum2 = 0\n",
    "for expression in expressions:\n",
    "    tokens = tokenizer.parse(expression)\n",
    "    parsed = parser2.parse(tokens)\n",
    "    evaluated = evaluator.visit(parsed)\n",
    "    total_sum2 += evaluated.value\n",
    "\n",
    "print(f\"Total Sum (part 2): {total_sum2}\")"
   ]
  },
  {
   "cell_type": "code",
   "execution_count": null,
   "metadata": {},
   "outputs": [],
   "source": []
  }
 ]
}