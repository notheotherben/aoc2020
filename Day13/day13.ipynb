{
 "metadata": {
  "language_info": {
   "codemirror_mode": {
    "name": "ipython",
    "version": 3
   },
   "file_extension": ".py",
   "mimetype": "text/x-python",
   "name": "python",
   "nbconvert_exporter": "python",
   "pygments_lexer": "ipython3",
   "version": "3.8.3-final"
  },
  "orig_nbformat": 2,
  "kernelspec": {
   "name": "python3",
   "display_name": "Python 3.8.3 64-bit",
   "metadata": {
    "interpreter": {
     "hash": "8eaaf4aeae68107eef80d92da26d6c25334845f2231709207bcb2e9c0e1d5c54"
    }
   }
  }
 },
 "nbformat": 4,
 "nbformat_minor": 2,
 "cells": [
  {
   "cell_type": "code",
   "execution_count": 6,
   "metadata": {},
   "outputs": [],
   "source": [
    "example = \"\"\"\n",
    "939\n",
    "7,13,x,x,59,x,31,19\n",
    "\"\"\".strip().splitlines()\n",
    "\n",
    "with open('day13.txt', 'r') as f:\n",
    "    data = f.readlines()"
   ]
  },
  {
   "source": [
    "## Part 1 Solution\n",
    "To solve **Part 1** we can take advantage of the fact that each bus arrives at the same period. This useful property\n",
    "allows us to use simple multiplication to determine all of the times that a bus will arrive at.\n",
    "\n",
    "```\n",
    "t_arrival = n_arrival * bus_id\n",
    "          = 0 * bus_id\n",
    "          = 1 * bus_id\n",
    "          = 2 * bus_id\n",
    "          = ...\n",
    "```\n",
    "\n",
    "So given that our arrival numbers are integers (i.e. the bus cannot half-arrive), we can determine the next time that\n",
    "it is due by calculating the next arrival number and multiplying by the bus ID. The last arrival number is, coincidentally,\n",
    "the `floor()` of the current timestamp divided by the bus ID (the length of its journey).\n",
    "\n",
    "So in other words, `t_arrival = (floor(time / bus_id) + 1) * bus_id`.\n",
    "\n",
    "## Part 2 Solution\n",
    "The solution to **Part 2** is a bit more complicated, but it generally takes advantage of the fact that these busses arrive\n",
    "in predictable periods. If we take the first bus (in the example) it will arrive every 7 minutes. To maintain the same cycle\n",
    "between the first and second busses, we can use the Lowest Common Multiple (`7 * 13`) to determine when the cycle between the\n",
    "two busses will repeat.\n",
    "\n",
    "Thus, if we wished to find the cycle-length in which all busses arrived at the same time, we would simply need to multiply\n",
    "all of the bus IDs together (e.g. `7 * 13 * 59 * 31 * 19`).\n",
    "\n",
    "However, we also wish to find a certain offset from the busses all arriving at identical times. One way to achieve this is to\n",
    "cycle each bus in turn until we arrive at the desired offset and then \"freeze\" that portion of the cycle.\n",
    "\n",
    "For example, if `7` starts at the desired offset (`0`) and we wish to offset `13` by `1` relative to `7` then we need to cycle\n",
    "by `7` each step until `13` arrives one minute after bys `7`. We can then freeze this pair by cycling in increments of `7 * 13`\n",
    "and so on."
   ],
   "cell_type": "markdown",
   "metadata": {}
  },
  {
   "cell_type": "code",
   "execution_count": 20,
   "metadata": {},
   "outputs": [
    {
     "output_type": "stream",
     "name": "stdout",
     "text": [
      "Next bus: 59\nPart 1: 295\nPart 2: 1068781\n"
     ]
    }
   ],
   "source": [
    "from typing import List, Dict\n",
    "\n",
    "class BusSchedule(object):\n",
    "    def __init__(self, buses: List[str]):\n",
    "        self.busses = [\n",
    "            int(bus.strip())\n",
    "            for bus in buses\n",
    "            if bus != 'x'\n",
    "        ]\n",
    "        self.indexes = [\n",
    "            i\n",
    "            for i, bus in enumerate(buses)\n",
    "            if bus != 'x'\n",
    "        ]\n",
    "\n",
    "    def get_next_time(self, bus: int, after: int) -> int:\n",
    "        return (int(after/bus) + 1) * bus\n",
    "\n",
    "    def get_next_bus(self, timestamp: int):\n",
    "        min_bus = self.busses[0]\n",
    "        for bus in self.busses:\n",
    "            if self.get_next_time(bus, timestamp) < self.get_next_time(min_bus, timestamp):\n",
    "                min_bus = bus\n",
    "\n",
    "        return min_bus\n",
    "\n",
    "    def get_part1_answer(self, timestamp: int) -> int:\n",
    "        next_bus = self.get_next_bus(timestamp)\n",
    "        time_to_wait = self.get_next_time(next_bus, timestamp) - timestamp\n",
    "        return next_bus * time_to_wait\n",
    "\n",
    "    def get_part2_answer(self) -> int:\n",
    "        offsets = [\n",
    "            -i % bus for bus, i in zip(self.busses, self.indexes)\n",
    "        ]\n",
    "\n",
    "        timestamp = 0\n",
    "        step = 1\n",
    "        for bus, offset in zip(self.busses, offsets):\n",
    "            while timestamp % bus != offset:\n",
    "                timestamp += step\n",
    "            step *= bus\n",
    "\n",
    "        return timestamp\n",
    "\n",
    "\n",
    "example_schedule = BusSchedule(example[1].split(','))\n",
    "print(f\"Next bus: {example_schedule.get_next_bus(int(example[0].strip()))}\")\n",
    "print(f\"Part 1: {example_schedule.get_part1_answer(int(example[0].strip()))}\")\n",
    "print(f\"Part 2: {example_schedule.get_part2_answer()}\")"
   ]
  },
  {
   "cell_type": "code",
   "execution_count": 21,
   "metadata": {},
   "outputs": [
    {
     "output_type": "stream",
     "name": "stdout",
     "text": [
      "Part 1: 174\nPart 2: 780601154795940\n"
     ]
    }
   ],
   "source": [
    "true_schedule = BusSchedule(data[1].split(','))\n",
    "print(f\"Part 1: {true_schedule.get_part1_answer(int(data[0].strip()))}\")\n",
    "print(f\"Part 2: {true_schedule.get_part2_answer()}\")"
   ]
  },
  {
   "cell_type": "code",
   "execution_count": null,
   "metadata": {},
   "outputs": [],
   "source": []
  }
 ]
}