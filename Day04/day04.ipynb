{
 "metadata": {
  "language_info": {
   "codemirror_mode": {
    "name": "ipython",
    "version": 3
   },
   "file_extension": ".py",
   "mimetype": "text/x-python",
   "name": "python",
   "nbconvert_exporter": "python",
   "pygments_lexer": "ipython3",
   "version": "3.8.3-final"
  },
  "orig_nbformat": 2,
  "kernelspec": {
   "name": "python3",
   "display_name": "Python 3.8.3 64-bit",
   "metadata": {
    "interpreter": {
     "hash": "8eaaf4aeae68107eef80d92da26d6c25334845f2231709207bcb2e9c0e1d5c54"
    }
   }
  }
 },
 "nbformat": 4,
 "nbformat_minor": 2,
 "cells": [
  {
   "cell_type": "code",
   "execution_count": 64,
   "metadata": {},
   "outputs": [],
   "source": [
    "example = \"\"\"\n",
    "ecl:gry pid:860033327 eyr:2020 hcl:#fffffd\n",
    "byr:1937 iyr:2017 cid:147 hgt:183cm\n",
    "\n",
    "iyr:2013 ecl:amb cid:350 eyr:2023 pid:028048884\n",
    "hcl:#cfa07d byr:1929\n",
    "\n",
    "hcl:#ae17e1 iyr:2013\n",
    "eyr:2024\n",
    "ecl:brn pid:760753108 byr:1931\n",
    "hgt:179cm\n",
    "\n",
    "hcl:#cfa07d eyr:2025 pid:166559648\n",
    "iyr:2011 ecl:brn hgt:59in\n",
    "\"\"\".strip().splitlines()\n",
    "\n",
    "with open(\"day04.txt\", \"r\") as f:\n",
    "    data = [line.strip() for line in f.readlines()]\n"
   ]
  },
  {
   "cell_type": "code",
   "execution_count": 69,
   "metadata": {},
   "outputs": [
    {
     "output_type": "execute_result",
     "data": {
      "text/plain": [
       "2"
      ]
     },
     "metadata": {},
     "execution_count": 69
    }
   ],
   "source": [
    "from typing import Dict, Iterable, Union, List\n",
    "import re\n",
    "\n",
    "class Passport(object):\n",
    "    fields = {\n",
    "        # \"cid\": int # Temporarilly allow north-pole credentials\n",
    "        \"pid\": lambda f: re.match(\"^[0-9]{9}$\", f),\n",
    "        \"byr\": lambda f: 1920 <= int(f) <= 2002,\n",
    "        \"iyr\": lambda f: 2010 <= int(f) <= 2020,\n",
    "        \"eyr\": lambda f: 2020 <= int(f) <= 2030,\n",
    "        \"hgt\": lambda f: re.match(\"^1([5-8]\\d|9[0-3])cm$|^(59|6\\d|7[0-6])in$\", f),\n",
    "        \"hcl\": lambda f: re.match(\"^#[0-9a-f]{6}$\", f),\n",
    "        \"ecl\": lambda f: re.match(\"^(amb|blu|brn|gry|grn|hzl|oth)$\", f),\n",
    "    }\n",
    "\n",
    "    def __init__(self, **fields: Dict[str, str]):\n",
    "        self._fields = fields\n",
    "        \n",
    "    def is_valid(self, data_validation: bool = False) -> bool:\n",
    "        for key, validate in Passport.fields.items():\n",
    "            if key not in self._fields:\n",
    "                return False\n",
    "\n",
    "            if data_validation:\n",
    "                try:\n",
    "                    if not validate(self._fields[key]):\n",
    "                        return False\n",
    "                except Exception:\n",
    "                    return False\n",
    "            \n",
    "        return True\n",
    "\n",
    "    def __getattr__(self, key: str) -> Union[str, int, None]:\n",
    "        if key in self._fields:\n",
    "            return self._fields[key]\n",
    "        else:\n",
    "            return None\n",
    "\n",
    "    def __str__(self) -> str:\n",
    "        return str(self._fields)\n",
    "\n",
    "    \n",
    "    def __repr__(self) -> str:\n",
    "        return f\"Passport(**{self._fields})\"\n",
    "        \n",
    "    @staticmethod\n",
    "    def from_str(input: str) -> \"Passport\":\n",
    "        fields = {\n",
    "            entry[0]: entry[1]\n",
    "            for entry in re.findall(r'(\\w+):([^\\s]+)', input, re.MULTILINE)\n",
    "        }\n",
    "\n",
    "        return Passport(**fields)\n",
    "\n",
    "    def from_lines(input: List[str]) -> Iterable[\"Passport\"]:\n",
    "        parts = []\n",
    "        for line in input:\n",
    "            if line == \"\":\n",
    "                yield Passport.from_str(\" \".join(parts))\n",
    "                parts = []\n",
    "            else:\n",
    "                parts.append(line)\n",
    "\n",
    "        yield Passport.from_str(\"\\n\".join(parts))\n",
    "\n",
    "\n",
    "len(list(p for p in Passport.from_lines(example) if p.is_valid()))"
   ]
  },
  {
   "cell_type": "code",
   "execution_count": 66,
   "metadata": {},
   "outputs": [],
   "source": [
    "\n",
    "assert Passport.fields[\"byr\"](\"2002\")\n",
    "assert not Passport.fields[\"byr\"](\"2003\")\n",
    "\n",
    "assert Passport.fields[\"hgt\"](\"60in\")\n",
    "assert Passport.fields[\"hgt\"](\"190cm\")\n",
    "assert not Passport.fields[\"hgt\"](\"190in\")\n",
    "assert not Passport.fields[\"hgt\"](\"190\")\n",
    "\n",
    "assert Passport.fields[\"hcl\"](\"#123abc\")\n",
    "assert not Passport.fields[\"hcl\"](\"#123abz\")\n",
    "assert not Passport.fields[\"hcl\"](\"123abc\")\n",
    "\n",
    "assert Passport.fields[\"ecl\"](\"brn\")\n",
    "assert not Passport.fields[\"ecl\"](\"wat\")\n",
    "\n",
    "assert Passport.fields[\"pid\"](\"000000001\")\n",
    "assert not Passport.fields[\"pid\"](\"0123456789\")\n"
   ]
  },
  {
   "cell_type": "code",
   "execution_count": 70,
   "metadata": {},
   "outputs": [],
   "source": [
    "invalid = \"\"\"\n",
    "eyr:1972 cid:100\n",
    "hcl:#18171d ecl:amb hgt:170 pid:186cm iyr:2018 byr:1926\n",
    "\n",
    "iyr:2019\n",
    "hcl:#602927 eyr:1967 hgt:170cm\n",
    "ecl:grn pid:012533040 byr:1946\n",
    "\n",
    "hcl:dab227 iyr:2012\n",
    "ecl:brn hgt:182cm pid:021572410 eyr:2020 byr:1992 cid:277\n",
    "\n",
    "hgt:59cm ecl:zzz\n",
    "eyr:2038 hcl:74454a iyr:2023\n",
    "pid:3556412378 byr:2007\n",
    "\"\"\".strip().splitlines()\n",
    "\n",
    "assert len(list(p for p in Passport.from_lines(invalid) if p.is_valid(data_validation=True))) == 0"
   ]
  },
  {
   "cell_type": "code",
   "execution_count": 71,
   "metadata": {},
   "outputs": [],
   "source": [
    "\n",
    "valid = \"\"\"\n",
    "pid:087499704 hgt:74in ecl:grn iyr:2012 eyr:2030 byr:1980\n",
    "hcl:#623a2f\n",
    "\n",
    "eyr:2029 ecl:blu cid:129 byr:1989\n",
    "iyr:2014 pid:896056539 hcl:#a97842 hgt:165cm\n",
    "\n",
    "hcl:#888785\n",
    "hgt:164cm byr:2001 iyr:2015 cid:88\n",
    "pid:545766238 ecl:hzl\n",
    "eyr:2022\n",
    "\n",
    "iyr:2010 hgt:158cm hcl:#b6652a ecl:blu byr:1944 eyr:2021 pid:093154719\n",
    "\"\"\".strip().splitlines()\n",
    "\n",
    "assert list(p for p in Passport.from_lines(valid) if not p.is_valid(data_validation=True)) == []"
   ]
  },
  {
   "cell_type": "code",
   "execution_count": 73,
   "metadata": {
    "tags": []
   },
   "outputs": [
    {
     "output_type": "execute_result",
     "data": {
      "text/plain": [
       "202"
      ]
     },
     "metadata": {},
     "execution_count": 73
    }
   ],
   "source": [
    "len(list(p for p in Passport.from_lines(data) if p.is_valid(data_validation=False)))"
   ]
  },
  {
   "cell_type": "code",
   "execution_count": 74,
   "metadata": {},
   "outputs": [
    {
     "output_type": "execute_result",
     "data": {
      "text/plain": [
       "137"
      ]
     },
     "metadata": {},
     "execution_count": 74
    }
   ],
   "source": [
    "len(list(p for p in Passport.from_lines(data) if p.is_valid(data_validation=True)))"
   ]
  }
 ]
}