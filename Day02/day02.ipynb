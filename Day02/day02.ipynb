{
 "metadata": {
  "language_info": {
   "codemirror_mode": {
    "name": "ipython",
    "version": 3
   },
   "file_extension": ".py",
   "mimetype": "text/x-python",
   "name": "python",
   "nbconvert_exporter": "python",
   "pygments_lexer": "ipython3",
   "version": "3.8.3-final"
  },
  "orig_nbformat": 2,
  "kernelspec": {
   "name": "python3",
   "display_name": "Python 3.8.3 64-bit",
   "metadata": {
    "interpreter": {
     "hash": "8eaaf4aeae68107eef80d92da26d6c25334845f2231709207bcb2e9c0e1d5c54"
    }
   }
  }
 },
 "nbformat": 4,
 "nbformat_minor": 2,
 "cells": [
  {
   "cell_type": "code",
   "execution_count": 13,
   "metadata": {},
   "outputs": [],
   "source": [
    "import re\n",
    "\n",
    "class PolicyEntry(object):\n",
    "    def __init__(self, character: str, param_a: int, param_b: int, kind: int = 1):\n",
    "        self.character = character\n",
    "        self.param_a = param_a\n",
    "        self.param_b = param_b\n",
    "        self.kind = kind\n",
    "\n",
    "    character: str\n",
    "    param_a: int\n",
    "    param_b: int\n",
    "    kind: int\n",
    "\n",
    "    @staticmethod\n",
    "    def from_str(spec: str, kind: int = 1) -> PolicyEntry:\n",
    "        matches = re.match(r\"^(\\d+)-(\\d+) (\\w)\", spec)\n",
    "        return PolicyEntry(character=matches[3], param_a=int(matches[1]), param_b=int(matches[2]), kind=kind)\n",
    "\n",
    "    def test_str(password_spec: str, kind: int = 1) -> bool:\n",
    "        spec, password = password_spec.split(':', maxsplit=2)\n",
    "        return PolicyEntry.from_str(spec, kind=kind).test(password.strip())\n",
    "\n",
    "    def test(self, password: str) -> bool:\n",
    "        if self.kind == 1:\n",
    "            counted = 0\n",
    "            for character in password:\n",
    "                if character == self.character:\n",
    "                    counted += 1\n",
    "\n",
    "            return self.param_a <= counted <= self.param_b\n",
    "\n",
    "        elif self.kind == 2:\n",
    "            \n",
    "            return (password[self.param_a - 1] == self.character) ^ (password[self.param_b - 1] == self.character)\n",
    "        \n",
    "\n",
    "assert PolicyEntry.test_str(\"1-3 a: abcde\", kind=1)\n",
    "assert not PolicyEntry.test_str(\"1-3 b: cdefg\", kind=1)\n",
    "assert PolicyEntry.test_str(\"2-9 c: ccccccccc\", kind=1)\n",
    "\n",
    "\n",
    "assert PolicyEntry.test_str(\"1-3 a: abcde\", kind=2)\n",
    "assert not PolicyEntry.test_str(\"1-3 b: cdefg\", kind=2)\n",
    "assert not PolicyEntry.test_str(\"2-9 c: ccccccccc\", kind=2)"
   ]
  },
  {
   "cell_type": "code",
   "execution_count": 14,
   "metadata": {},
   "outputs": [
    {
     "output_type": "stream",
     "name": "stdout",
     "text": [
      "Valid (Type 1): 398\nValid (Type 2): 562\n"
     ]
    }
   ],
   "source": [
    "with open(\"day02.txt\", \"r\") as f:\n",
    "    valid_count_type1 = 0\n",
    "    valid_count_type2 = 0\n",
    "    for password_spec in f.readlines():\n",
    "        if PolicyEntry.test_str(password_spec, kind=1):\n",
    "            valid_count_type1 += 1\n",
    "            \n",
    "        if PolicyEntry.test_str(password_spec, kind=2):\n",
    "            valid_count_type2 += 1\n",
    "        \n",
    "    print(f\"Valid (Type 1): {valid_count_type1}\")\n",
    "    print(f\"Valid (Type 2): {valid_count_type2}\")"
   ]
  },
  {
   "cell_type": "code",
   "execution_count": null,
   "metadata": {},
   "outputs": [],
   "source": []
  }
 ]
}