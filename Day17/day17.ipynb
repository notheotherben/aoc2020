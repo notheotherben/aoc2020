{
 "metadata": {
  "language_info": {
   "codemirror_mode": {
    "name": "ipython",
    "version": 3
   },
   "file_extension": ".py",
   "mimetype": "text/x-python",
   "name": "python",
   "nbconvert_exporter": "python",
   "pygments_lexer": "ipython3",
   "version": "3.8.3-final"
  },
  "orig_nbformat": 2,
  "kernelspec": {
   "name": "python3",
   "display_name": "Python 3.8.3 64-bit",
   "metadata": {
    "interpreter": {
     "hash": "8eaaf4aeae68107eef80d92da26d6c25334845f2231709207bcb2e9c0e1d5c54"
    }
   }
  }
 },
 "nbformat": 4,
 "nbformat_minor": 2,
 "cells": [
  {
   "cell_type": "code",
   "execution_count": 72,
   "metadata": {},
   "outputs": [],
   "source": [
    "example = \"\"\"\n",
    ".#.\n",
    "..#\n",
    "###\n",
    "\"\"\".strip().splitlines()\n",
    "\n",
    "with open('day17.txt', 'r') as f:\n",
    "    data = f.readlines()"
   ]
  },
  {
   "source": [
    "## Strategy\n",
    "We're using an immutable `State` construct which is transformed according to a set of rules. This allows us to snapshot the state for evaluation before we move to the next step.\n",
    "\n",
    "We have the challenge of needing to introduce neighbouring cubes (which may start in an active state depending on the number of neighbours) so it is necessary to first build up\n",
    "a set of the new state's cube space and then iterating to the new state."
   ],
   "cell_type": "markdown",
   "metadata": {}
  },
  {
   "cell_type": "code",
   "execution_count": 91,
   "metadata": {},
   "outputs": [],
   "source": [
    "from typing import Iterator\n",
    "\n",
    "class Cube(object):\n",
    "    def __init__(self, x: int, y: int, z: int = 0, active: bool = False):\n",
    "        self.x = x\n",
    "        self.y = y\n",
    "        self.z = z\n",
    "        self.active = active\n",
    "\n",
    "    @property\n",
    "    def index(self) -> str:\n",
    "        return Cube.format_index(self.x, self.y, self.z)\n",
    "\n",
    "    @staticmethod\n",
    "    def format_index(*coords: int) -> str:\n",
    "        return \",\".join(map(str, coords))\n",
    "\n",
    "    def neighbours(self, state: \"State\") -> Iterator[Cube]:\n",
    "        d = [-1, 0, 1]\n",
    "\n",
    "        for dx in d:\n",
    "            for dy in d:\n",
    "                for dz in d:\n",
    "                    if dx == dy == dz == 0:\n",
    "                        continue\n",
    "\n",
    "                    default_cube = Cube(self.x + dx, self.y + dy, self.z + dz)\n",
    "                    yield state.get(default_cube.index, default_cube)\n",
    "\n",
    "    def active_neighbours(self, state: \"State\") -> int:\n",
    "        return sum(1 for neighbour in self.neighbours(state) if neighbour.active)\n",
    "\n",
    "    def step(self, state: \"State\") -> Cube:\n",
    "        active_neighbours = self.active_neighbours(state)\n",
    "\n",
    "        if self.active:\n",
    "            return self.with_state(active_neighbours in [2, 3])\n",
    "        else:\n",
    "            return self.with_state(active_neighbours == 3)\n",
    "\n",
    "    def with_state(self, active: bool) -> Cube:\n",
    "        return Cube(self.x, self.y, self.z, active=active)\n",
    "\n",
    "    def __eq__(self, other: Cube) -> bool:\n",
    "        return self.index == other.index\n",
    "        \n",
    "    def __ne__(self, other: Cube) -> bool:\n",
    "        return self.index != other.index\n",
    "\n",
    "    def __hash__(self):\n",
    "        return hash((self.x, self.y, self.z))"
   ]
  },
  {
   "cell_type": "code",
   "execution_count": 92,
   "metadata": {},
   "outputs": [],
   "source": [
    "from typing import Iterable\n",
    "\n",
    "class State(object):\n",
    "    def __init__(self, cubes: Iterable[Cube]):\n",
    "        self.cubes: Dict[str, Cube] = {\n",
    "            cube.index: cube\n",
    "            for cube in cubes if cube.active\n",
    "        }\n",
    "\n",
    "        self.x_range = (min(cube.x for cube in self.cubes.values()), max(cube.x for cube in self.cubes.values()))\n",
    "        self.y_range = (min(cube.y for cube in self.cubes.values()), max(cube.y for cube in self.cubes.values()))\n",
    "        self.z_range = (min(cube.z for cube in self.cubes.values()), max(cube.z for cube in self.cubes.values()))\n",
    "\n",
    "    def transform(self) -> \"State\":\n",
    "        new_cube_space = set(neighbour for cube in self.cubes.values() for neighbour in cube.neighbours(self))\n",
    "        return State(cube.step(self) for cube in new_cube_space)\n",
    "\n",
    "    def get(self, index: str, default: Cube) -> Cube:\n",
    "        if index in self.cubes:\n",
    "            return self.cubes[index]\n",
    "\n",
    "        return default\n",
    "\n",
    "    def print(self):\n",
    "        for z in range(self.z_range[0], self.z_range[1] + 1):\n",
    "            print(f\"z={z}\")\n",
    "            for y in range(self.y_range[0], self.y_range[1] + 1):\n",
    "                print(\"\".join('#' if self.get(x, y, z).active else '.' for x in range(self.x_range[0], self.x_range[1] + 1)) + f\"  | y = {y}\")\n",
    "\n",
    "            print(\"\\n\")\n"
   ]
  },
  {
   "cell_type": "code",
   "execution_count": 93,
   "metadata": {},
   "outputs": [
    {
     "output_type": "stream",
     "name": "stdout",
     "text": [
      "Active Cubes (Part 1): 380\n"
     ]
    }
   ],
   "source": [
    "from typing import Iterable, Dict, Type\n",
    "\n",
    "class EnergySource(object):\n",
    "    def __init__(self, init: Iterable[Iterable[str]], cube_type: Type[Cube] = Cube):\n",
    "        self.state = State(cube_type(x, y, active=(state == '#')) for y, line in enumerate(init) for x, state in enumerate(line))\n",
    "\n",
    "    def boot(self, print_state: int = 0):\n",
    "        if print_state > 0:\n",
    "            print(\"Before any cycles:\\n\")\n",
    "            self.state.print()\n",
    "\n",
    "        for i in range(0, 6):\n",
    "\n",
    "            self.step()\n",
    "            if print_state > i:\n",
    "                print(f\"\\nAfter {i + 1} cycle{'s' if i != 0 else ''}\")\n",
    "                self.state.print()\n",
    "\n",
    "    def step(self):\n",
    "        self.state = self.state.transform()\n",
    "\n",
    "    def active_cubes(self) -> int:\n",
    "        return sum(1 for cube in self.state.cubes.values() if cube.active)\n",
    "\n",
    "example_source = EnergySource(example)\n",
    "example_source.boot(print_state=0)\n",
    "assert example_source.active_cubes() == 112\n",
    "\n",
    "source = EnergySource(data)\n",
    "source.boot()\n",
    "print(f\"Active Cubes (Part 1): {source.active_cubes()}\")"
   ]
  },
  {
   "cell_type": "code",
   "execution_count": 94,
   "metadata": {},
   "outputs": [
    {
     "output_type": "stream",
     "name": "stdout",
     "text": [
      "Active Cubes (Part 2): 2332\n"
     ]
    }
   ],
   "source": [
    "class HyperCube(Cube):\n",
    "    def __init__(self, x: int, y: int, z: int = 0, w: int = 0, active: bool = False):\n",
    "        super().__init__(x, y, z, active)\n",
    "        self.w = w\n",
    "\n",
    "    @property\n",
    "    def index(self) -> str:\n",
    "        return Cube.format_index(self.x, self.y, self.z, self.w)\n",
    "\n",
    "    def neighbours(self, state: \"State\") -> Iterator[\"HyperCube\"]:\n",
    "        d = [-1, 0, 1]\n",
    "\n",
    "        for dx in d:\n",
    "            for dy in d:\n",
    "                for dz in d:\n",
    "                    for dw in d:\n",
    "                        if dx == dy == dz == dw == 0:\n",
    "                            continue\n",
    "\n",
    "                        default_cube = HyperCube(self.x + dx, self.y + dy, self.z + dz, self.w + dw)\n",
    "                        yield state.get(default_cube.index, default_cube)\n",
    "\n",
    "    def with_state(self, active: bool) -> Cube:\n",
    "        return HyperCube(self.x, self.y, self.z, self.w, active=active)\n",
    "\n",
    "source = EnergySource(data, cube_type=HyperCube)\n",
    "source.boot()\n",
    "print(f\"Active Cubes (Part 2): {source.active_cubes()}\")"
   ]
  },
  {
   "cell_type": "code",
   "execution_count": null,
   "metadata": {},
   "outputs": [],
   "source": []
  }
 ]
}